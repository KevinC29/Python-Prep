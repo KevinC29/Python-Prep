{
 "cells": [
  {
   "attachments": {},
   "cell_type": "markdown",
   "metadata": {},
   "source": [
    "## Funciones"
   ]
  },
  {
   "attachments": {},
   "cell_type": "markdown",
   "metadata": {},
   "source": [
    "1) Crear una función que reciba un número como parámetro y devuelva True si es primo y False si no lo es"
   ]
  },
  {
   "cell_type": "code",
   "execution_count": 1,
   "metadata": {},
   "outputs": [],
   "source": [
    "def es_primo(numero):\n",
    "    if numero < 2:\n",
    "        return False\n",
    "    for i in range(2, numero):\n",
    "        if numero % i == 0:\n",
    "            return False\n",
    "    return True"
   ]
  },
  {
   "attachments": {},
   "cell_type": "markdown",
   "metadata": {},
   "source": [
    "2) Utilizando la función del punto 1, realizar otra función que reciba de parámetro una lista de números y devuelva sólo aquellos que son primos en otra lista"
   ]
  },
  {
   "cell_type": "code",
   "execution_count": 2,
   "metadata": {},
   "outputs": [
    {
     "name": "stdout",
     "output_type": "stream",
     "text": [
      "[2, 3, 5, 7, 11, 13, 17, 19]\n"
     ]
    }
   ],
   "source": [
    "def lista_primos(lista):\n",
    "    lista_primos = []\n",
    "    for i in lista:\n",
    "        if es_primo(int(i)):\n",
    "            lista_primos.append(i)\n",
    "    return lista_primos\n",
    "\n",
    "lis_completa = [1,2,3,4,5,6,7,8,9,10,11,12,13,14,15,16,17,18,19,20]\n",
    "lis_primos = lista_primos(lis_completa)\n",
    "print(lis_primos)"
   ]
  },
  {
   "attachments": {},
   "cell_type": "markdown",
   "metadata": {},
   "source": [
    "3) Crear una función que al recibir una lista de números, devuelva el que más se repite y cuántas veces lo hace. Si hay más de un \"más repetido\", que devuelva cualquiera"
   ]
  },
  {
   "cell_type": "code",
   "execution_count": 3,
   "metadata": {},
   "outputs": [
    {
     "name": "stdout",
     "output_type": "stream",
     "text": [
      "[1, 2, 3, 4, 5, 6, 7, 8, 9, 10, 11, 12, 13, 14, 15, 1, 1, 1, 1, 1, 1, 1, 1, 1, 1, 1, 1, 1, 1, 1]\n",
      "(1, 16)\n"
     ]
    }
   ],
   "source": [
    "def mas_repetido(lista):\n",
    "    list_repeat = []\n",
    "    list_count = []\n",
    "    for i in lista:\n",
    "        if i in list_repeat:\n",
    "            index = list_repeat.index(i)\n",
    "            list_count[index] += 1\n",
    "        else:\n",
    "            list_repeat.append(i)\n",
    "            list_count.append(1)\n",
    "    \n",
    "    max_count = list_count.index(max(list_count))\n",
    "    max_repeat = list_repeat[max_count]\n",
    "\n",
    "    return max_repeat, max(list_count)\n",
    "\n",
    "list_numbers = [1,2,3,4,5,6,7,8,9,10,11,12,13,14,15,1,1,1,1,1,1,1,1,1,1,1,1,1,1,1]\n",
    "print(list_numbers)\n",
    "print(mas_repetido(list_numbers))"
   ]
  },
  {
   "attachments": {},
   "cell_type": "markdown",
   "metadata": {},
   "source": [
    "4) Crear una función que convierta entre grados Celsius, Farenheit y Kelvin<br>\n",
    "Fórmula 1\t: (°C × 9/5) + 32 = °F<br>\n",
    "Fórmula 2\t: °C + 273.15 = °K<br>\n",
    "Debe recibir 3 parámetros: el valor, la medida de orígen y la medida de destino\n"
   ]
  },
  {
   "cell_type": "code",
   "execution_count": 4,
   "metadata": {},
   "outputs": [
    {
     "name": "stdout",
     "output_type": "stream",
     "text": [
      "No se puede convertir a la misma medida\n",
      "1 grado Celsius a Celsius: None\n",
      "1 grado Celsius a Kelvin: 274.15\n",
      "1 grado Celsius a Farenheit: 33.8\n",
      "1 grado Kelvin a Celsius: -272.15\n",
      "No se puede convertir a la misma medida\n",
      "1 grado Kelvin a Kelvin: None\n",
      "1 grado Kelvin a Farenheit: -457.87\n",
      "1 grado Farenheit a Celsius: -17.22222222222222\n",
      "1 grado Farenheit a Kelvin: 255.92777777777775\n",
      "No se puede convertir a la misma medida\n",
      "1 grado Farenheit a Farenheit: None\n"
     ]
    }
   ],
   "source": [
    "def convert(valor, medida, destino):\n",
    "    if medida == 'C':\n",
    "        if destino == 'F':\n",
    "            return (valor * 9/5) + 32\n",
    "        elif destino == 'K':\n",
    "            return valor + 273.15\n",
    "        else:\n",
    "            return print('No se puede convertir a la misma medida')\n",
    "    elif medida == 'F':\n",
    "        if destino == 'C':\n",
    "            return (valor - 32) * 5/9\n",
    "        elif destino == 'K':\n",
    "            return (valor - 32) * 5/9 + 273.15\n",
    "        else:\n",
    "            return print('No se puede convertir a la misma medida')\n",
    "    elif medida == 'K':\n",
    "        if destino == 'C':\n",
    "            return valor - 273.15\n",
    "        elif destino == 'F':\n",
    "            return (valor - 273.15) * 9/5 + 32\n",
    "        else:\n",
    "            return print('No se puede convertir a la misma medida')\n",
    "    else:\n",
    "        return print('No se puede convertir')\n",
    "\n",
    "print('1 grado Celsius a Celsius:', convert(1, 'C', 'C'))\n",
    "print('1 grado Celsius a Kelvin:', convert(1, 'C', 'K'))\n",
    "print('1 grado Celsius a Farenheit:', convert(1, 'C', 'F'))\n",
    "print('1 grado Kelvin a Celsius:', convert(1, 'K', 'C'))\n",
    "print('1 grado Kelvin a Kelvin:', convert(1, 'K', 'K'))\n",
    "print('1 grado Kelvin a Farenheit:', convert(1, 'K', 'F'))\n",
    "print('1 grado Farenheit a Celsius:', convert(1, 'F', 'C'))\n",
    "print('1 grado Farenheit a Kelvin:', convert(1, 'F', 'K'))\n",
    "print('1 grado Farenheit a Farenheit:', convert(1, 'F', 'F'))"
   ]
  },
  {
   "attachments": {},
   "cell_type": "markdown",
   "metadata": {},
   "source": [
    "5) Iterando una lista con los tres valores posibles de temperatura que recibe la función del punto 5, hacer un print para cada combinación de los mismos:"
   ]
  },
  {
   "cell_type": "code",
   "execution_count": 5,
   "metadata": {},
   "outputs": [
    {
     "name": "stdout",
     "output_type": "stream",
     "text": [
      "No se puede convertir a la misma medida\n",
      "1 grado K a K : None\n",
      "1 grado K a C : -272.15\n",
      "1 grado K a F : -457.87\n",
      "1 grado C a K : 274.15\n",
      "No se puede convertir a la misma medida\n",
      "1 grado C a C : None\n",
      "1 grado C a F : 33.8\n",
      "1 grado F a K : 255.92777777777775\n",
      "1 grado F a C : -17.22222222222222\n",
      "No se puede convertir a la misma medida\n",
      "1 grado F a F : None\n"
     ]
    }
   ],
   "source": [
    "grades = ['K', 'C', 'F']\n",
    "for i in grades:\n",
    "    for j in grades:\n",
    "        print('1 grado', i, 'a', j, ':', convert(1, i, j))\n"
   ]
  },
  {
   "attachments": {},
   "cell_type": "markdown",
   "metadata": {},
   "source": [
    "6) Armar una función que devuelva el factorial de un número. Tener en cuenta que el usuario puede equivocarse y enviar de parámetro un número no entero o negativo"
   ]
  },
  {
   "cell_type": "code",
   "execution_count": 7,
   "metadata": {},
   "outputs": [
    {
     "name": "stdout",
     "output_type": "stream",
     "text": [
      "120\n"
     ]
    }
   ],
   "source": [
    "def factorial(num):\n",
    "    if (num < 0):\n",
    "        return print('No se puede calcular el factorial de un número negativo')\n",
    "    elif (type(num) != int):\n",
    "        return print('No se puede calcular el factorial de un número no entero')\n",
    "    elif (num == 1):\n",
    "        return num\n",
    "    else:\n",
    "        num = num * factorial(num - 1)\n",
    "    return num\n",
    "\n",
    "print(factorial(5))\n"
   ]
  }
 ],
 "metadata": {
  "interpreter": {
   "hash": "c85384e4cb51c8b72350f3a8712cc8351fdc3955e32a27f9b60c6242ab125f01"
  },
  "kernelspec": {
   "display_name": "Python 3 (ipykernel)",
   "language": "python",
   "name": "python3"
  },
  "language_info": {
   "codemirror_mode": {
    "name": "ipython",
    "version": 3
   },
   "file_extension": ".py",
   "mimetype": "text/x-python",
   "name": "python",
   "nbconvert_exporter": "python",
   "pygments_lexer": "ipython3",
   "version": "3.11.5"
  }
 },
 "nbformat": 4,
 "nbformat_minor": 4
}
