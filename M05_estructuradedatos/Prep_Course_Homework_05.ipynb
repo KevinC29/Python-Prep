{
 "cells": [
  {
   "attachments": {},
   "cell_type": "markdown",
   "metadata": {},
   "source": [
    "## Estructuras de Datos"
   ]
  },
  {
   "attachments": {},
   "cell_type": "markdown",
   "metadata": {},
   "source": [
    "1) Crear una lista que contenga nombres de ciudades del mundo que contenga más de 5 elementos e imprimir por pantalla"
   ]
  },
  {
   "cell_type": "code",
   "execution_count": 1,
   "metadata": {},
   "outputs": [
    {
     "name": "stdout",
     "output_type": "stream",
     "text": [
      "['Quito', 'Cuenca', 'Obelisco', 'Madrid', 'Barcelona']\n"
     ]
    }
   ],
   "source": [
    "list_city = ['Quito', 'Cuenca', 'Obelisco', 'Madrid', 'Barcelona']\n",
    "print(list_city)"
   ]
  },
  {
   "attachments": {},
   "cell_type": "markdown",
   "metadata": {},
   "source": [
    "2) Imprimir por pantalla el segundo elemento de la lista"
   ]
  },
  {
   "cell_type": "code",
   "execution_count": 2,
   "metadata": {},
   "outputs": [
    {
     "name": "stdout",
     "output_type": "stream",
     "text": [
      "Cuenca\n"
     ]
    }
   ],
   "source": [
    "print(list_city[1])"
   ]
  },
  {
   "attachments": {},
   "cell_type": "markdown",
   "metadata": {},
   "source": [
    "3) Imprimir por pantalla del segundo al cuarto elemento"
   ]
  },
  {
   "cell_type": "code",
   "execution_count": 3,
   "metadata": {},
   "outputs": [
    {
     "name": "stdout",
     "output_type": "stream",
     "text": [
      "['Cuenca', 'Obelisco', 'Madrid']\n"
     ]
    }
   ],
   "source": [
    "print(list_city[1:4])"
   ]
  },
  {
   "attachments": {},
   "cell_type": "markdown",
   "metadata": {},
   "source": [
    "4) Visualizar el tipo de dato de la lista"
   ]
  },
  {
   "cell_type": "code",
   "execution_count": 4,
   "metadata": {},
   "outputs": [
    {
     "name": "stdout",
     "output_type": "stream",
     "text": [
      "<class 'list'>\n"
     ]
    }
   ],
   "source": [
    "print(type(list_city))\n"
   ]
  },
  {
   "attachments": {},
   "cell_type": "markdown",
   "metadata": {},
   "source": [
    "5) Visualizar todos los elementos de la lista a partir del tercero de manera genérica, es decir, sin explicitar la posición del último elemento"
   ]
  },
  {
   "cell_type": "code",
   "execution_count": 5,
   "metadata": {},
   "outputs": [
    {
     "name": "stdout",
     "output_type": "stream",
     "text": [
      "['Obelisco', 'Madrid', 'Barcelona']\n"
     ]
    }
   ],
   "source": [
    "print(list_city[2:])\n"
   ]
  },
  {
   "attachments": {},
   "cell_type": "markdown",
   "metadata": {},
   "source": [
    "6) Visualizar los primeros 4 elementos de la lista"
   ]
  },
  {
   "cell_type": "code",
   "execution_count": 6,
   "metadata": {},
   "outputs": [
    {
     "name": "stdout",
     "output_type": "stream",
     "text": [
      "['Quito', 'Cuenca', 'Obelisco', 'Madrid']\n"
     ]
    }
   ],
   "source": [
    "print(list_city[:4])"
   ]
  },
  {
   "attachments": {},
   "cell_type": "markdown",
   "metadata": {},
   "source": [
    "7) Agregar una ciudad más a la lista que ya exista y otra que no ¿Arroja algún tipo de error?"
   ]
  },
  {
   "cell_type": "code",
   "execution_count": 7,
   "metadata": {},
   "outputs": [
    {
     "name": "stdout",
     "output_type": "stream",
     "text": [
      "['Quito', 'Cuenca', 'Obelisco', 'Madrid', 'Barcelona', 'Cuenca', 'Londres']\n"
     ]
    }
   ],
   "source": [
    "list_city.append('Cuenca')\n",
    "list_city.append('Londres')\n",
    "#No da error por que se puede agregar elementos repetidos\n",
    "print(list_city)\n"
   ]
  },
  {
   "attachments": {},
   "cell_type": "markdown",
   "metadata": {},
   "source": [
    "8) Agregar otra ciudad, pero en la cuarta posición"
   ]
  },
  {
   "cell_type": "code",
   "execution_count": 8,
   "metadata": {},
   "outputs": [
    {
     "name": "stdout",
     "output_type": "stream",
     "text": [
      "['Quito', 'Cuenca', 'Obelisco', 'Loja', 'Madrid', 'Barcelona', 'Cuenca', 'Londres']\n",
      "['Quito', 'Cuenca', 'Obelisco', 'Esmeraldas', 'Loja', 'Madrid', 'Barcelona', 'Cuenca', 'Londres']\n"
     ]
    }
   ],
   "source": [
    "list_city.insert(3, 'Loja')\n",
    "print(list_city)\n",
    "\n",
    "\n",
    "list_city.insert(3, 'Esmeraldas')\n",
    "print(list_city)"
   ]
  },
  {
   "attachments": {},
   "cell_type": "markdown",
   "metadata": {},
   "source": [
    "9) Concatenar otra lista a la ya creada"
   ]
  },
  {
   "cell_type": "code",
   "execution_count": 9,
   "metadata": {},
   "outputs": [
    {
     "name": "stdout",
     "output_type": "stream",
     "text": [
      "['Quito', 'Cuenca', 'Obelisco', 'Esmeraldas', 'Loja', 'Madrid', 'Barcelona', 'Cuenca', 'Londres', 'Guayaquil', 'Machala', 'Milan']\n",
      "['Quito', 'Cuenca', 'Obelisco', 'Esmeraldas', 'Loja', 'Madrid', 'Barcelona', 'Cuenca', 'Londres', 'Guayaquil', 'Machala', 'Milan', 'Paris', 'Roma', 'Guayaquil']\n"
     ]
    }
   ],
   "source": [
    "list_city2 = ['Guayaquil', 'Machala', 'Milan']\n",
    "list_city = list_city + list_city2\n",
    "print(list_city)\n",
    "\n",
    "\n",
    "list_city.extend(['Paris','Roma','Guayaquil'])\n",
    "print(list_city)"
   ]
  },
  {
   "attachments": {},
   "cell_type": "markdown",
   "metadata": {},
   "source": [
    "10) Encontrar el índice de la ciudad que en el punto 7 agregamos duplicada. ¿Se nota alguna particularidad?"
   ]
  },
  {
   "cell_type": "code",
   "execution_count": 10,
   "metadata": {},
   "outputs": [
    {
     "name": "stdout",
     "output_type": "stream",
     "text": [
      "1\n"
     ]
    }
   ],
   "source": [
    "print(list_city.index('Cuenca'))\n",
    "#La unica particularidad es que se toma el primer elemento que encuentra\n"
   ]
  },
  {
   "attachments": {},
   "cell_type": "markdown",
   "metadata": {},
   "source": [
    "11) ¿Qué pasa si se busca un elemento que no existe?"
   ]
  },
  {
   "cell_type": "code",
   "execution_count": 11,
   "metadata": {},
   "outputs": [
    {
     "name": "stdout",
     "output_type": "stream",
     "text": [
      "Da error ya que no encuentra el elemento\n"
     ]
    }
   ],
   "source": [
    "# print(list_city.index('Cuenca2'))\n",
    "print(\"Da error ya que no encuentra el elemento\")"
   ]
  },
  {
   "attachments": {},
   "cell_type": "markdown",
   "metadata": {},
   "source": [
    "12) Eliminar un elemento de la lista"
   ]
  },
  {
   "cell_type": "code",
   "execution_count": 12,
   "metadata": {},
   "outputs": [
    {
     "name": "stdout",
     "output_type": "stream",
     "text": [
      "['Quito', 'Cuenca', 'Obelisco', 'Esmeraldas', 'Loja', 'Barcelona', 'Cuenca', 'Londres', 'Guayaquil', 'Machala', 'Milan', 'Paris', 'Roma', 'Guayaquil']\n"
     ]
    }
   ],
   "source": [
    "list_city.remove('Madrid')\n",
    "print(list_city)\n"
   ]
  },
  {
   "attachments": {},
   "cell_type": "markdown",
   "metadata": {},
   "source": [
    "13) ¿Qué pasa si el elemento a eliminar no existe?"
   ]
  },
  {
   "cell_type": "code",
   "execution_count": 13,
   "metadata": {},
   "outputs": [
    {
     "name": "stdout",
     "output_type": "stream",
     "text": [
      "Da error ya que no encuentra el elemento\n"
     ]
    }
   ],
   "source": [
    "# list_city.remove('Madrid2')\n",
    "print(\"Da error ya que no encuentra el elemento\")"
   ]
  },
  {
   "attachments": {},
   "cell_type": "markdown",
   "metadata": {},
   "source": [
    "14) Extraer el úlimo elemento de la lista, guardarlo en una variable e imprimirlo"
   ]
  },
  {
   "cell_type": "code",
   "execution_count": 14,
   "metadata": {},
   "outputs": [
    {
     "name": "stdout",
     "output_type": "stream",
     "text": [
      "Guayaquil\n"
     ]
    }
   ],
   "source": [
    "value = list_city.pop()\n",
    "print(value)\n"
   ]
  },
  {
   "attachments": {},
   "cell_type": "markdown",
   "metadata": {},
   "source": [
    "15) Mostrar la lista multiplicada por 4"
   ]
  },
  {
   "cell_type": "code",
   "execution_count": 15,
   "metadata": {},
   "outputs": [
    {
     "name": "stdout",
     "output_type": "stream",
     "text": [
      "['Quito', 'Cuenca', 'Obelisco', 'Esmeraldas', 'Loja', 'Barcelona', 'Cuenca', 'Londres', 'Guayaquil', 'Machala', 'Milan', 'Paris', 'Roma', 'Quito', 'Cuenca', 'Obelisco', 'Esmeraldas', 'Loja', 'Barcelona', 'Cuenca', 'Londres', 'Guayaquil', 'Machala', 'Milan', 'Paris', 'Roma', 'Quito', 'Cuenca', 'Obelisco', 'Esmeraldas', 'Loja', 'Barcelona', 'Cuenca', 'Londres', 'Guayaquil', 'Machala', 'Milan', 'Paris', 'Roma', 'Quito', 'Cuenca', 'Obelisco', 'Esmeraldas', 'Loja', 'Barcelona', 'Cuenca', 'Londres', 'Guayaquil', 'Machala', 'Milan', 'Paris', 'Roma']\n"
     ]
    }
   ],
   "source": [
    "print(list_city * 4)\n"
   ]
  },
  {
   "attachments": {},
   "cell_type": "markdown",
   "metadata": {},
   "source": [
    "16) Crear una tupla que contenga los números enteros del 1 al 20"
   ]
  },
  {
   "cell_type": "code",
   "execution_count": 16,
   "metadata": {},
   "outputs": [
    {
     "name": "stdout",
     "output_type": "stream",
     "text": [
      "(1, 2, 3, 4, 5, 6, 7, 8, 9, 10, 11, 12, 13, 14, 15, 16, 17, 18, 19, 20)\n"
     ]
    }
   ],
   "source": [
    "tuple_numbers = (1,2,3,4,5,6,7,8,9,10,11,12,13,14,15,16,17,18,19,20)\n",
    "print(tuple_numbers)"
   ]
  },
  {
   "attachments": {},
   "cell_type": "markdown",
   "metadata": {},
   "source": [
    "17) Imprimir desde el índice 10 al 15 de la tupla"
   ]
  },
  {
   "cell_type": "code",
   "execution_count": 17,
   "metadata": {},
   "outputs": [
    {
     "name": "stdout",
     "output_type": "stream",
     "text": [
      "(11, 12, 13, 14, 15, 16)\n"
     ]
    }
   ],
   "source": [
    "print(tuple_numbers[10:16])"
   ]
  },
  {
   "attachments": {},
   "cell_type": "markdown",
   "metadata": {},
   "source": [
    "18) Evaluar si los números 20 y 30 están dentro de la tupla"
   ]
  },
  {
   "cell_type": "code",
   "execution_count": 18,
   "metadata": {},
   "outputs": [
    {
     "name": "stdout",
     "output_type": "stream",
     "text": [
      "True\n",
      "False\n"
     ]
    }
   ],
   "source": [
    "print(20 in tuple_numbers)\n",
    "print(30 in tuple_numbers)"
   ]
  },
  {
   "attachments": {},
   "cell_type": "markdown",
   "metadata": {},
   "source": [
    "19) Con la lista creada en el punto 1, validar la existencia del elemento 'París' y si no existe, agregarlo. Utilizar una variable e informar lo sucedido."
   ]
  },
  {
   "cell_type": "code",
   "execution_count": 19,
   "metadata": {},
   "outputs": [
    {
     "name": "stdout",
     "output_type": "stream",
     "text": [
      "El elemento no existe:  París\n"
     ]
    }
   ],
   "source": [
    "exist = 'París'\n",
    "if exist in list_city:\n",
    "    exit = True\n",
    "    print(\"El elemento existe\", exist)\n",
    "else:\n",
    "    list_city.append('Paris')\n",
    "    print(\"El elemento no existe: \", exist)\n"
   ]
  },
  {
   "attachments": {},
   "cell_type": "markdown",
   "metadata": {},
   "source": [
    "20) Mostrar la cantidad de veces que se encuentra un elemento específico dentro de la tupla y de la lista"
   ]
  },
  {
   "cell_type": "code",
   "execution_count": 20,
   "metadata": {},
   "outputs": [
    {
     "name": "stdout",
     "output_type": "stream",
     "text": [
      "Cantidad de veces que se encuentra el elemento en la lista:  2\n",
      "Cantidad de veces que se encuentra el elemento en la tupla:  1\n"
     ]
    }
   ],
   "source": [
    "cont_list = list_city.count('Cuenca')\n",
    "cont_tuple = tuple_numbers.count(1)\n",
    "\n",
    "print(\"Cantidad de veces que se encuentra el elemento en la lista: \", cont_list)\n",
    "print(\"Cantidad de veces que se encuentra el elemento en la tupla: \", cont_tuple)\n"
   ]
  },
  {
   "attachments": {},
   "cell_type": "markdown",
   "metadata": {},
   "source": [
    "21) Convertir la tupla en una lista"
   ]
  },
  {
   "cell_type": "code",
   "execution_count": 21,
   "metadata": {},
   "outputs": [
    {
     "name": "stdout",
     "output_type": "stream",
     "text": [
      "[1, 2, 3, 4, 5, 6, 7, 8, 9, 10, 11, 12, 13, 14, 15, 16, 17, 18, 19, 20]\n"
     ]
    }
   ],
   "source": [
    "tuple_list = list(tuple_numbers)\n",
    "print(tuple_list)"
   ]
  },
  {
   "attachments": {},
   "cell_type": "markdown",
   "metadata": {},
   "source": [
    "22) Desempaquetar solo los primeros 3 elementos de la tupla en 3 variables"
   ]
  },
  {
   "cell_type": "code",
   "execution_count": 22,
   "metadata": {},
   "outputs": [
    {
     "name": "stdout",
     "output_type": "stream",
     "text": [
      "1 2 3\n"
     ]
    }
   ],
   "source": [
    "var_1, var_2, var_3 = tuple_numbers[:3]\n",
    "print(var_1, var_2, var_3)"
   ]
  },
  {
   "attachments": {},
   "cell_type": "markdown",
   "metadata": {},
   "source": [
    "23) Crear un diccionario utilizando la lista crada en el punto 1, asignandole la clave \"ciudad\". Agregar tambien otras claves, como puede ser \"Pais\" y \"Continente\"."
   ]
  },
  {
   "cell_type": "code",
   "execution_count": 23,
   "metadata": {},
   "outputs": [
    {
     "name": "stdout",
     "output_type": "stream",
     "text": [
      "{'ciudad': ['Quito', 'Cuenca', 'Obelisco', 'Esmeraldas', 'Loja', 'Barcelona', 'Cuenca', 'Londres', 'Guayaquil', 'Machala', 'Milan', 'Paris', 'Roma', 'Paris'], 'pais': 'Ecuador', 'continente': 'America'}\n"
     ]
    }
   ],
   "source": [
    "dic_city = {'ciudad': list_city, 'pais': 'Ecuador', 'continente': 'America'}\n",
    "print(dic_city)\n"
   ]
  },
  {
   "attachments": {},
   "cell_type": "markdown",
   "metadata": {},
   "source": [
    "24) Imprimir las claves del diccionario"
   ]
  },
  {
   "cell_type": "code",
   "execution_count": 24,
   "metadata": {},
   "outputs": [
    {
     "name": "stdout",
     "output_type": "stream",
     "text": [
      "dict_keys(['ciudad', 'pais', 'continente'])\n"
     ]
    }
   ],
   "source": [
    "print(dic_city.keys())"
   ]
  },
  {
   "attachments": {},
   "cell_type": "markdown",
   "metadata": {},
   "source": [
    "25) Imprimir las ciudades a través de su clave"
   ]
  },
  {
   "cell_type": "code",
   "execution_count": 25,
   "metadata": {},
   "outputs": [
    {
     "name": "stdout",
     "output_type": "stream",
     "text": [
      "['Quito', 'Cuenca', 'Obelisco', 'Esmeraldas', 'Loja', 'Barcelona', 'Cuenca', 'Londres', 'Guayaquil', 'Machala', 'Milan', 'Paris', 'Roma', 'Paris']\n"
     ]
    }
   ],
   "source": [
    "print(dic_city['ciudad'])\n"
   ]
  }
 ],
 "metadata": {
  "interpreter": {
   "hash": "c85384e4cb51c8b72350f3a8712cc8351fdc3955e32a27f9b60c6242ab125f01"
  },
  "kernelspec": {
   "display_name": "Python 3 (ipykernel)",
   "language": "python",
   "name": "python3"
  },
  "language_info": {
   "codemirror_mode": {
    "name": "ipython",
    "version": 3
   },
   "file_extension": ".py",
   "mimetype": "text/x-python",
   "name": "python",
   "nbconvert_exporter": "python",
   "pygments_lexer": "ipython3",
   "version": "3.11.5"
  }
 },
 "nbformat": 4,
 "nbformat_minor": 4
}
