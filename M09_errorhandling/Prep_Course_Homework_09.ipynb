{
 "cells": [
  {
   "attachments": {},
   "cell_type": "markdown",
   "metadata": {},
   "source": [
    "## Manejo de errores"
   ]
  },
  {
   "attachments": {},
   "cell_type": "markdown",
   "metadata": {},
   "source": [
    "1) Con la clase creada en el módulo 7, tener en cuenta diferentes casos en que el código pudiera arrojar error. Por ejemplo, en la creación del objeto recibimos una lista de números enteros pero ¿qué pasa si se envía otro tipo de dato?"
   ]
  },
  {
   "cell_type": "code",
   "execution_count": 1,
   "metadata": {},
   "outputs": [],
   "source": [
    "from funcionesm8 import *\n",
    "\n",
    "\n",
    "def more_repeat(self, lista):\n",
    "    list_repeat = []\n",
    "    list_count = []\n",
    "    for i in lista:\n",
    "        if not isinstance(entrada_usuario, int): #En este caso validamos que la lista contenga solo valores numericos\n",
    "            raise ValueError(\"La lista contiene valores no validos\") #Caso contrario muestra un error \n",
    "\n",
    "        if i in list_repeat:\n",
    "            index = list_repeat.index(i)\n",
    "            list_count[index] += 1\n",
    "        else:\n",
    "            list_repeat.append(i)\n",
    "            list_count.append(1)\n",
    "        \n",
    "    max_count = list_count.index(max(list_count))\n",
    "    max_repeat = list_repeat[max_count]\n",
    "\n",
    "    return max_repeat, max(list_count)"
   ]
  },
  {
   "attachments": {},
   "cell_type": "markdown",
   "metadata": {},
   "source": [
    "2) En la función que hace la conversión de grados, validar que los parámetros enviados sean los esperados, de no serlo, informar cuáles son los valores esperados."
   ]
  },
  {
   "cell_type": "code",
   "execution_count": 2,
   "metadata": {},
   "outputs": [],
   "source": [
    "def convert(self, valor, medida, destino):\n",
    "    if not isinstance(valor, int) or not isinstance(medida, str) or not isinstance(destino, str): #Validamos que los datos sean correctos\n",
    "        raise ValueError(\"Alguno de los valores no es correcto\") #Caso contrario muestra un error \n",
    "\n",
    "    if medida == 'C':\n",
    "        if destino == 'F':\n",
    "            return (valor * 9/5) + 32\n",
    "        elif destino == 'K':\n",
    "            return valor + 273.15\n",
    "        else:\n",
    "            return print('No se puede convertir a la misma medida')\n",
    "    elif medida == 'F':\n",
    "        if destino == 'C':\n",
    "            return (valor - 32) * 5/9\n",
    "        elif destino == 'K':\n",
    "            return (valor - 32) * 5/9 + 273.15\n",
    "        else:\n",
    "            return print('No se puede convertir a la misma medida')\n",
    "    elif medida == 'K':\n",
    "        if destino == 'C':\n",
    "            return valor - 273.15\n",
    "        elif destino == 'F':\n",
    "            return (valor - 273.15) * 9/5 + 32\n",
    "        else:\n",
    "            return print('No se puede convertir a la misma medida')\n",
    "    else:\n",
    "        return print('No se puede convertir')"
   ]
  },
  {
   "attachments": {},
   "cell_type": "markdown",
   "metadata": {},
   "source": [
    "3) Importar el modulo \"unittest\" y crear los siguientes casos de pruebas sobre la clase utilizada en el punto 2<br>\n",
    "Creacion del objeto incorrecta<br>\n",
    "Creacion correcta del objeto<br>\n",
    "Metodo valor_modal()<br>\n",
    "\n",
    "Se puede usar \"raise ValueError()\" en la creación de la clase para verificar el error. Investigar sobre esta funcionalidad."
   ]
  },
  {
   "cell_type": "code",
   "execution_count": 3,
   "metadata": {},
   "outputs": [],
   "source": [
    "import unittest\n",
    "from funcionesm8 import FuncionesM7\n",
    "\n",
    "class PruebaDeCristalTest(unittest.TestCase):\n",
    "\n",
    "    def test_objeto_incorrecto(self):\n",
    "        objeto = FuncionesM7(1)\n",
    "        self.assertIsInstance(objeto, FuncionesM7)\n",
    "\n",
    "    def test_objeto_correcto(self):\n",
    "        objeto = FuncionesM7()\n",
    "        self.assertIsInstance(objeto, FuncionesM7)\n",
    "\n",
    "    def test_list_correcto(self):\n",
    "        objeto = FuncionesM7()\n",
    "        list_numbers = [1,2,3,4,5,6,7,8,9,10,11,12,13,14,15,1,1,1,1,1,1,1,1,1,1,1,1,1,1,1]\n",
    "        num1, num2 = objeto.more_repeat(list_numbers)\n",
    "        self.assertEqual(num1, 1)\n",
    "        self.assertEqual(num2,16)\n",
    "\n",
    "    def test_list_incorrecto(self):\n",
    "        num1 = 0\n",
    "        num2 = 0\n",
    "        objeto = FuncionesM7()\n",
    "        list_numbers = [\"a\",2,3,4,5,6,7,8,9,10,11,12,13,14,15,1,1,1,1,1,1,1,1,1,1,1,1,1,1,1]\n",
    "        num1, num2 = objeto.more_repeat(list_numbers)\n",
    "        self.assertEqual(num1, 0)\n",
    "        self.assertEqual(num2, 0)\n"
   ]
  },
  {
   "attachments": {},
   "cell_type": "markdown",
   "metadata": {},
   "source": [
    "4) Probar una creación incorrecta y visualizar la salida del \"raise\""
   ]
  },
  {
   "cell_type": "code",
   "execution_count": 4,
   "metadata": {},
   "outputs": [
    {
     "name": "stderr",
     "output_type": "stream",
     "text": [
      "test_list_correcto (__main__.PruebaDeCristalTest.test_list_correcto) ... ok\n",
      "test_list_incorrecto (__main__.PruebaDeCristalTest.test_list_incorrecto) ... ERROR\n",
      "test_objeto_correcto (__main__.PruebaDeCristalTest.test_objeto_correcto) ... ok\n",
      "test_objeto_incorrecto (__main__.PruebaDeCristalTest.test_objeto_incorrecto) ... ERROR\n",
      "\n",
      "======================================================================\n",
      "ERROR: test_list_incorrecto (__main__.PruebaDeCristalTest.test_list_incorrecto)\n",
      "----------------------------------------------------------------------\n",
      "Traceback (most recent call last):\n",
      "  File \"C:\\Users\\Genbbu\\AppData\\Local\\Temp\\ipykernel_1776\\3683890281.py\", line 26, in test_list_incorrecto\n",
      "    num1, num2 = objeto.more_repeat(list_numbers)\n",
      "                 ^^^^^^^^^^^^^^^^^^^^^^^^^^^^^^^^\n",
      "  File \"c:\\Users\\Genbbu\\Desktop\\Portafolio\\Python\\CursoHenry\\Python-Prep\\M09_errorhandling\\funcionesm8.py\", line 25, in more_repeat\n",
      "    raise ValueError(\"La lista contiene valores no validos\") #Caso contrario muestra un error\n",
      "    ^^^^^^^^^^^^^^^^^^^^^^^^^^^^^^^^^^^^^^^^^^^^^^^^^^^^^^^^\n",
      "ValueError: La lista contiene valores no validos\n",
      "\n",
      "======================================================================\n",
      "ERROR: test_objeto_incorrecto (__main__.PruebaDeCristalTest.test_objeto_incorrecto)\n",
      "----------------------------------------------------------------------\n",
      "Traceback (most recent call last):\n",
      "  File \"C:\\Users\\Genbbu\\AppData\\Local\\Temp\\ipykernel_1776\\3683890281.py\", line 7, in test_objeto_incorrecto\n",
      "    objeto = FuncionesM7(1)\n",
      "             ^^^^^^^^^^^^^^\n",
      "TypeError: FuncionesM7.__init__() takes 1 positional argument but 2 were given\n",
      "\n",
      "----------------------------------------------------------------------\n",
      "Ran 4 tests in 0.006s\n",
      "\n",
      "FAILED (errors=2)\n"
     ]
    },
    {
     "data": {
      "text/plain": [
       "<unittest.main.TestProgram at 0x1f13c5ff950>"
      ]
     },
     "execution_count": 4,
     "metadata": {},
     "output_type": "execute_result"
    }
   ],
   "source": [
    "unittest.main(argv=[\"\"], verbosity=2, exit=False)"
   ]
  },
  {
   "attachments": {},
   "cell_type": "markdown",
   "metadata": {},
   "source": [
    "6) Agregar casos de pruebas para el método verifica_primos() realizando el cambio en la clase, para que devuelva una lista de True o False en función de que el elemento en la posisicón sea o no primo"
   ]
  },
  {
   "cell_type": "code",
   "execution_count": 5,
   "metadata": {},
   "outputs": [
    {
     "name": "stderr",
     "output_type": "stream",
     "text": [
      "test_list_primos_correcto (__main__.PruebaDeCristalTest.test_list_primos_correcto) ... ok\n",
      "test_list_primos_incorrecto (__main__.PruebaDeCristalTest.test_list_primos_incorrecto) ... ERROR\n",
      "\n",
      "======================================================================\n",
      "ERROR: test_list_primos_incorrecto (__main__.PruebaDeCristalTest.test_list_primos_incorrecto)\n",
      "----------------------------------------------------------------------\n",
      "Traceback (most recent call last):\n",
      "  File \"C:\\Users\\Genbbu\\AppData\\Local\\Temp\\ipykernel_1776\\3457792784.py\", line 12, in test_list_primos_incorrecto\n",
      "    list_primos = objeto.is_primo(list_numbers)\n",
      "                  ^^^^^^^^^^^^^^^^^^^^^^^^^^^^^\n",
      "  File \"c:\\Users\\Genbbu\\Desktop\\Portafolio\\Python\\CursoHenry\\Python-Prep\\M09_errorhandling\\funcionesm8.py\", line 11, in is_primo\n",
      "    raise ValueError(\"La lista contiene valores no numericos\")\n",
      "ValueError: La lista contiene valores no numericos\n",
      "\n",
      "----------------------------------------------------------------------\n",
      "Ran 2 tests in 0.003s\n",
      "\n",
      "FAILED (errors=1)\n"
     ]
    },
    {
     "data": {
      "text/plain": [
       "<unittest.main.TestProgram at 0x1f13c9e46d0>"
      ]
     },
     "execution_count": 5,
     "metadata": {},
     "output_type": "execute_result"
    }
   ],
   "source": [
    "class PruebaDeCristalTest(unittest.TestCase):\n",
    "\n",
    "    def test_list_primos_correcto(self):\n",
    "        objeto = FuncionesM7()\n",
    "        list_numbers = [1,2,3,4,5,6,7,8,9,10,11,12,13,14,15,1,1,1,1,1,1,1,1,1,1,1,1,1,1,1]\n",
    "        list_primos = objeto.is_primo(list_numbers)\n",
    "        self.assertIsInstance(list_primos, list)\n",
    "\n",
    "    def test_list_primos_incorrecto(self):\n",
    "        objeto = FuncionesM7()\n",
    "        list_numbers = [1,\"a\",3,4,5,6,7,8,9,10,11,12,13,14,15,1,1,1,1,1,1,1,1,1,1,1,1,1,1,1]\n",
    "        list_primos = objeto.is_primo(list_numbers)\n",
    "        self.assertIsInstance(list_primos, list)\n",
    "\n",
    "\n",
    "unittest.main(argv=[\"\"], verbosity=2, exit=False)"
   ]
  },
  {
   "attachments": {},
   "cell_type": "markdown",
   "metadata": {},
   "source": [
    "7) Agregar casos de pruebas para el método conversion_grados()"
   ]
  },
  {
   "cell_type": "code",
   "execution_count": 6,
   "metadata": {},
   "outputs": [
    {
     "name": "stderr",
     "output_type": "stream",
     "text": [
      "test_conversion_correcto (__main__.PruebaDeCristalTest.test_conversion_correcto) ... ok\n",
      "test_conversion_incorrecto (__main__.PruebaDeCristalTest.test_conversion_incorrecto) ... ERROR\n",
      "\n",
      "======================================================================\n",
      "ERROR: test_conversion_incorrecto (__main__.PruebaDeCristalTest.test_conversion_incorrecto)\n",
      "----------------------------------------------------------------------\n",
      "Traceback (most recent call last):\n",
      "  File \"C:\\Users\\Genbbu\\AppData\\Local\\Temp\\ipykernel_1776\\3695920253.py\", line 13, in test_conversion_incorrecto\n",
      "    result = objeto.convert(\"a\", 'K', 'C')\n",
      "             ^^^^^^^^^^^^^^^^^^^^^^^^^^^^^\n",
      "  File \"c:\\Users\\Genbbu\\Desktop\\Portafolio\\Python\\CursoHenry\\Python-Prep\\M09_errorhandling\\funcionesm8.py\", line 42, in convert\n",
      "    raise ValueError(\"Alguno de los valores no es correcto\") #Caso contrario muestra un error\n",
      "    ^^^^^^^^^^^^^^^^^^^^^^^^^^^^^^^^^^^^^^^^^^^^^^^^^^^^^^^^\n",
      "ValueError: Alguno de los valores no es correcto\n",
      "\n",
      "----------------------------------------------------------------------\n",
      "Ran 2 tests in 0.005s\n",
      "\n",
      "FAILED (errors=1)\n"
     ]
    },
    {
     "data": {
      "text/plain": [
       "<unittest.main.TestProgram at 0x1f13c608650>"
      ]
     },
     "execution_count": 6,
     "metadata": {},
     "output_type": "execute_result"
    }
   ],
   "source": [
    "class PruebaDeCristalTest(unittest.TestCase):\n",
    "\n",
    "    def test_conversion_correcto(self):\n",
    "        result = 0\n",
    "        objeto = FuncionesM7()\n",
    "        result = objeto.convert(1, 'K', 'C')\n",
    "        self.assertEqual(result, -272.15)\n",
    "        self.assertIsInstance(result, float)\n",
    "\n",
    "    def test_conversion_incorrecto(self):\n",
    "        result = 0\n",
    "        objeto = FuncionesM7()\n",
    "        result = objeto.convert(\"a\", 'K', 'C')\n",
    "        self.assertEqual(result, 0)\n",
    "\n",
    "\n",
    "unittest.main(argv=[\"\"], verbosity=2, exit=False)"
   ]
  },
  {
   "attachments": {},
   "cell_type": "markdown",
   "metadata": {},
   "source": [
    "8) Agregar casos de pruebas para el método factorial()"
   ]
  },
  {
   "cell_type": "code",
   "execution_count": 7,
   "metadata": {},
   "outputs": [
    {
     "name": "stderr",
     "output_type": "stream",
     "text": [
      "test_factorial_correcto (__main__.PruebaDeCristalTest.test_factorial_correcto) ... ok\n",
      "test_factorial_incorrecto (__main__.PruebaDeCristalTest.test_factorial_incorrecto) ... ERROR\n",
      "\n",
      "======================================================================\n",
      "ERROR: test_factorial_incorrecto (__main__.PruebaDeCristalTest.test_factorial_incorrecto)\n",
      "----------------------------------------------------------------------\n",
      "Traceback (most recent call last):\n",
      "  File \"C:\\Users\\Genbbu\\AppData\\Local\\Temp\\ipykernel_1776\\297263862.py\", line 14, in test_factorial_incorrecto\n",
      "    result1 = objeto.factorial(-1)\n",
      "              ^^^^^^^^^^^^^^^^^^^^\n",
      "  File \"c:\\Users\\Genbbu\\Desktop\\Portafolio\\Python\\CursoHenry\\Python-Prep\\M09_errorhandling\\funcionesm8.py\", line 70, in factorial\n",
      "    raise ValueError('No se puede calcular el factorial de un número negativo')\n",
      "ValueError: No se puede calcular el factorial de un número negativo\n",
      "\n",
      "----------------------------------------------------------------------\n",
      "Ran 2 tests in 0.009s\n",
      "\n",
      "FAILED (errors=1)\n"
     ]
    },
    {
     "data": {
      "text/plain": [
       "<unittest.main.TestProgram at 0x1f13c609290>"
      ]
     },
     "execution_count": 7,
     "metadata": {},
     "output_type": "execute_result"
    }
   ],
   "source": [
    "class PruebaDeCristalTest(unittest.TestCase):\n",
    "\n",
    "    def test_factorial_correcto(self):\n",
    "        result = 0\n",
    "        objeto = FuncionesM7()\n",
    "        result = objeto.factorial(5)\n",
    "        self.assertEqual(result, 120)\n",
    "        self.assertIsInstance(result, int)\n",
    "\n",
    "    def test_factorial_incorrecto(self):\n",
    "        result1 = 0\n",
    "        result2 = 0\n",
    "        objeto = FuncionesM7()\n",
    "        result1 = objeto.factorial(-1)\n",
    "        result2 = objeto.factorial(\"a\")\n",
    "        self.assertEqual(result1, 0)\n",
    "        self.assertEqual(result2, 0)\n",
    "\n",
    "\n",
    "unittest.main(argv=[\"\"], verbosity=2, exit=False)"
   ]
  }
 ],
 "metadata": {
  "interpreter": {
   "hash": "c85384e4cb51c8b72350f3a8712cc8351fdc3955e32a27f9b60c6242ab125f01"
  },
  "kernelspec": {
   "display_name": "Python 3 (ipykernel)",
   "language": "python",
   "name": "python3"
  },
  "language_info": {
   "codemirror_mode": {
    "name": "ipython",
    "version": 3
   },
   "file_extension": ".py",
   "mimetype": "text/x-python",
   "name": "python",
   "nbconvert_exporter": "python",
   "pygments_lexer": "ipython3",
   "version": "3.11.5"
  }
 },
 "nbformat": 4,
 "nbformat_minor": 4
}
