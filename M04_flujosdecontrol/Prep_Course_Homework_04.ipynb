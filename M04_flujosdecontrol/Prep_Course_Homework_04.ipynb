{
 "cells": [
  {
   "attachments": {},
   "cell_type": "markdown",
   "metadata": {},
   "source": [
    "## Flujos de Control"
   ]
  },
  {
   "attachments": {},
   "cell_type": "markdown",
   "metadata": {},
   "source": [
    "1) Crear una variable que contenga un elemento del conjunto de números enteros y luego imprimir por pantalla si es mayor o menor a cero"
   ]
  },
  {
   "cell_type": "code",
   "execution_count": 1,
   "metadata": {},
   "outputs": [
    {
     "name": "stdout",
     "output_type": "stream",
     "text": [
      "Respuesta punto 1: Es mayor a cero\n"
     ]
    }
   ],
   "source": [
    "var = 5\n",
    "\n",
    "if var > 0:\n",
    "    print(\"Respuesta punto 1: Es mayor a cero\")\n",
    "elif var == 0:\n",
    "    print(\"Respuesta punto 1: Es igual a cero\")\n",
    "else:\n",
    "    print(\"Respuesta punto 1: Es menor a cero\")"
   ]
  },
  {
   "attachments": {},
   "cell_type": "markdown",
   "metadata": {},
   "source": [
    "2) Crear dos variables y un condicional que informe si son del mismo tipo de dato"
   ]
  },
  {
   "cell_type": "code",
   "execution_count": 2,
   "metadata": {},
   "outputs": [
    {
     "name": "stdout",
     "output_type": "stream",
     "text": [
      "Respuesta punto 2: No son del mismo tipo de dato\n",
      "Respuesta punto 2: Son del mismo tipo de dato\n"
     ]
    }
   ],
   "source": [
    "booleano = True\n",
    "num_a = 5\n",
    "num_b = 10\n",
    "\n",
    "if(type(booleano) == type(num_a)):\n",
    "    print(\"Respuesta punto 2: Son del mismo tipo de dato\")\n",
    "else:\n",
    "    print(\"Respuesta punto 2: No son del mismo tipo de dato\")\n",
    "\n",
    "if(type(num_a) == type(num_b)):\n",
    "    print(\"Respuesta punto 2: Son del mismo tipo de dato\")\n",
    "else:\n",
    "    print(\"Respuesta punto 2: No son del mismo tipo de dato\")\n"
   ]
  },
  {
   "attachments": {},
   "cell_type": "markdown",
   "metadata": {},
   "source": [
    "3) Para los valores enteros del 1 al 20, imprimir por pantalla si es par o impar"
   ]
  },
  {
   "cell_type": "code",
   "execution_count": 3,
   "metadata": {},
   "outputs": [
    {
     "name": "stdout",
     "output_type": "stream",
     "text": [
      "Respuesta punto 3: El número 1 es impar\n",
      "Respuesta punto 3: El número 2 es par\n",
      "Respuesta punto 3: El número 3 es impar\n",
      "Respuesta punto 3: El número 4 es par\n",
      "Respuesta punto 3: El número 5 es impar\n",
      "Respuesta punto 3: El número 6 es par\n",
      "Respuesta punto 3: El número 7 es impar\n",
      "Respuesta punto 3: El número 8 es par\n",
      "Respuesta punto 3: El número 9 es impar\n",
      "Respuesta punto 3: El número 10 es par\n",
      "Respuesta punto 3: El número 11 es impar\n",
      "Respuesta punto 3: El número 12 es par\n",
      "Respuesta punto 3: El número 13 es impar\n",
      "Respuesta punto 3: El número 14 es par\n",
      "Respuesta punto 3: El número 15 es impar\n",
      "Respuesta punto 3: El número 16 es par\n",
      "Respuesta punto 3: El número 17 es impar\n",
      "Respuesta punto 3: El número 18 es par\n",
      "Respuesta punto 3: El número 19 es impar\n",
      "Respuesta punto 3: El número 20 es par\n"
     ]
    }
   ],
   "source": [
    "val_num = 1\n",
    "while val_num <= 20:\n",
    "    if val_num % 2 == 0:\n",
    "        print(\"Respuesta punto 3: El número \" + str(val_num) + \" es par\")\n",
    "    else:\n",
    "        print(\"Respuesta punto 3: El número \" + str(val_num) + \" es impar\")\n",
    "    val_num += 1"
   ]
  },
  {
   "attachments": {},
   "cell_type": "markdown",
   "metadata": {},
   "source": [
    "4) En un ciclo for mostrar para los valores entre 0 y 5 el resultado de elevarlo a la potencia igual a 3"
   ]
  },
  {
   "cell_type": "code",
   "execution_count": 4,
   "metadata": {},
   "outputs": [
    {
     "name": "stdout",
     "output_type": "stream",
     "text": [
      "Respuesta punto 4: 0 elevado a la potencia 3 es igual a: 0\n",
      "Respuesta punto 4: 1 elevado a la potencia 3 es igual a: 1\n",
      "Respuesta punto 4: 2 elevado a la potencia 3 es igual a: 8\n",
      "Respuesta punto 4: 3 elevado a la potencia 3 es igual a: 27\n",
      "Respuesta punto 4: 4 elevado a la potencia 3 es igual a: 64\n",
      "Respuesta punto 4: 5 elevado a la potencia 3 es igual a: 125\n"
     ]
    }
   ],
   "source": [
    "for i in range(0, 6):\n",
    "    print(\"Respuesta punto 4: \" + str(i) + \" elevado a la potencia 3 es igual a: \" + str(i**3))\n"
   ]
  },
  {
   "attachments": {},
   "cell_type": "markdown",
   "metadata": {},
   "source": [
    "5) Crear una variable que contenga un número entero y realizar un ciclo for la misma cantidad de ciclos"
   ]
  },
  {
   "cell_type": "code",
   "execution_count": 5,
   "metadata": {},
   "outputs": [
    {
     "name": "stdout",
     "output_type": "stream",
     "text": [
      "Respuesta punto 5: Ciclo número: 0\n",
      "Respuesta punto 5: Ciclo número: 1\n",
      "Respuesta punto 5: Ciclo número: 2\n",
      "Respuesta punto 5: Ciclo número: 3\n",
      "Respuesta punto 5: Ciclo número: 4\n"
     ]
    }
   ],
   "source": [
    "var_for = 5\n",
    "for i in range(0, var_for):\n",
    "    print(\"Respuesta punto 5: Ciclo número: \" + str(i))"
   ]
  },
  {
   "attachments": {},
   "cell_type": "markdown",
   "metadata": {},
   "source": [
    "6) Utilizar un ciclo while para realizar el factorial de un número guardado en una variable, sólo si la variable contiene un número entero mayor a 0"
   ]
  },
  {
   "cell_type": "code",
   "execution_count": 6,
   "metadata": {},
   "outputs": [
    {
     "name": "stdout",
     "output_type": "stream",
     "text": [
      "Respuesta punto 6: Factoreo de 5 es: \n",
      "120\n"
     ]
    }
   ],
   "source": [
    "num_f = 5\n",
    "result_fd = 1\n",
    "\n",
    "if type(num_f) == int and num_f > 0:\n",
    "    print(\"Respuesta punto 6: Factoreo de \" + str(num_f) + \" es: \")\n",
    "    while num_f > 1:\n",
    "        result_fd = result_fd * num_f\n",
    "        num_f -= 1\n",
    "    print(str(result_fd))\n",
    "else:\n",
    "    print(\"Respuesta punto 6: La variable no contiene un número entero mayor a 0\")"
   ]
  },
  {
   "attachments": {},
   "cell_type": "markdown",
   "metadata": {},
   "source": [
    "7) Crear un ciclo for dentro de un ciclo while"
   ]
  },
  {
   "cell_type": "code",
   "execution_count": 7,
   "metadata": {},
   "outputs": [
    {
     "name": "stdout",
     "output_type": "stream",
     "text": [
      "Respuesta punto 7: Ciclo while número: 0\n",
      "Respuesta punto 7: Ciclo for número: 0\n",
      "Respuesta punto 7: Ciclo for número: 1\n",
      "Respuesta punto 7: Ciclo while número: 1\n",
      "Respuesta punto 7: Ciclo for número: 0\n",
      "Respuesta punto 7: Ciclo for número: 1\n",
      "Respuesta punto 7: Ciclo while número: 2\n",
      "Respuesta punto 7: Ciclo for número: 0\n",
      "Respuesta punto 7: Ciclo for número: 1\n"
     ]
    }
   ],
   "source": [
    "num_w=0\n",
    "while(num_w<3):\n",
    "    print(\"Respuesta punto 7: Ciclo while número: \" + str(num_w))\n",
    "    for i in range(0, 2):\n",
    "        print(\"Respuesta punto 7: Ciclo for número: \" + str(i))\n",
    "    num_w+=1\n"
   ]
  },
  {
   "attachments": {},
   "cell_type": "markdown",
   "metadata": {},
   "source": [
    "8) Crear un ciclo while dentro de un ciclo for"
   ]
  },
  {
   "cell_type": "code",
   "execution_count": 8,
   "metadata": {},
   "outputs": [
    {
     "name": "stdout",
     "output_type": "stream",
     "text": [
      "Respuesta punto 8: Ciclo for número: 0\n",
      "Respuesta punto 8: Ciclo while número: 0\n",
      "Respuesta punto 8: Ciclo while número: 1\n",
      "Respuesta punto 8: Ciclo for número: 1\n",
      "Respuesta punto 8: Ciclo while número: 0\n",
      "Respuesta punto 8: Ciclo while número: 1\n"
     ]
    }
   ],
   "source": [
    "for i in range(0, 2):\n",
    "    print(\"Respuesta punto 8: Ciclo for número: \" + str(i))\n",
    "    num_w=0\n",
    "    while(num_w<2):\n",
    "        print(\"Respuesta punto 8: Ciclo while número: \" + str(num_w))\n",
    "        num_w+=1\n"
   ]
  },
  {
   "attachments": {},
   "cell_type": "markdown",
   "metadata": {},
   "source": [
    "9) Imprimir los números primos existentes entre 0 y 30"
   ]
  },
  {
   "cell_type": "code",
   "execution_count": 9,
   "metadata": {},
   "outputs": [
    {
     "name": "stdout",
     "output_type": "stream",
     "text": [
      "Respuesta punto 9: 0 no es un número primo\n",
      "Respuesta punto 9: 1 no es un número primo\n",
      "Respuesta punto 9: 2 es un número primo\n",
      "Respuesta punto 9: 3 es un número primo\n",
      "Respuesta punto 9: 4 no es un número primo\n",
      "Respuesta punto 9: 5 es un número primo\n",
      "Respuesta punto 9: 6 no es un número primo\n",
      "Respuesta punto 9: 7 es un número primo\n",
      "Respuesta punto 9: 8 no es un número primo\n",
      "Respuesta punto 9: 9 no es un número primo\n",
      "Respuesta punto 9: 10 no es un número primo\n",
      "Respuesta punto 9: 11 es un número primo\n",
      "Respuesta punto 9: 12 no es un número primo\n",
      "Respuesta punto 9: 13 es un número primo\n",
      "Respuesta punto 9: 14 no es un número primo\n",
      "Respuesta punto 9: 15 no es un número primo\n",
      "Respuesta punto 9: 16 no es un número primo\n",
      "Respuesta punto 9: 17 es un número primo\n",
      "Respuesta punto 9: 18 no es un número primo\n",
      "Respuesta punto 9: 19 es un número primo\n",
      "Respuesta punto 9: 20 no es un número primo\n",
      "Respuesta punto 9: 21 no es un número primo\n",
      "Respuesta punto 9: 22 no es un número primo\n",
      "Respuesta punto 9: 23 es un número primo\n",
      "Respuesta punto 9: 24 no es un número primo\n",
      "Respuesta punto 9: 25 no es un número primo\n",
      "Respuesta punto 9: 26 no es un número primo\n",
      "Respuesta punto 9: 27 no es un número primo\n",
      "Respuesta punto 9: 28 no es un número primo\n",
      "Respuesta punto 9: 29 es un número primo\n",
      "Respuesta punto 9: 30 no es un número primo\n"
     ]
    }
   ],
   "source": [
    "cont_div = 0\n",
    "for i in range(0, 31):\n",
    "    if i < 2:\n",
    "        print(\"Respuesta punto 9: \" + str(i) + \" no es un número primo\")\n",
    "        continue\n",
    "    cont_div = 0\n",
    "    for j in range(2, i):\n",
    "        if i % j == 0:\n",
    "            cont_div += 1\n",
    "    if(cont_div > 0):\n",
    "        print(\"Respuesta punto 9: \" + str(i) + \" no es un número primo\")\n",
    "    else:\n",
    "        print(\"Respuesta punto 9: \" + str(i) + \" es un número primo\")"
   ]
  },
  {
   "attachments": {},
   "cell_type": "markdown",
   "metadata": {},
   "source": [
    "10) ¿Se puede mejorar el proceso del punto 9? Utilizar las sentencias break y/ó continue para tal fin"
   ]
  },
  {
   "cell_type": "code",
   "execution_count": 10,
   "metadata": {},
   "outputs": [
    {
     "name": "stdout",
     "output_type": "stream",
     "text": [
      "Respuesta punto 10: 2 es un número primo\n",
      "Respuesta punto 10: 3 es un número primo\n",
      "Respuesta punto 10: 5 es un número primo\n",
      "Respuesta punto 10: 7 es un número primo\n",
      "Respuesta punto 10: 11 es un número primo\n",
      "Respuesta punto 10: 13 es un número primo\n",
      "Respuesta punto 10: 17 es un número primo\n",
      "Respuesta punto 10: 19 es un número primo\n",
      "Respuesta punto 10: 23 es un número primo\n",
      "Respuesta punto 10: 29 es un número primo\n"
     ]
    }
   ],
   "source": [
    "for i in range(0, 31):\n",
    "    if i < 2:\n",
    "        continue\n",
    "    for j in range(2, i):\n",
    "        if i % j == 0:\n",
    "            break\n",
    "    else:\n",
    "        print(\"Respuesta punto 10: \" + str(i) + \" es un número primo\")"
   ]
  },
  {
   "attachments": {},
   "cell_type": "markdown",
   "metadata": {},
   "source": [
    "11) En los puntos 9 y 10, se diseño un código que encuentra números primos y además se lo optimizó. ¿Es posible saber en qué medida se optimizó?"
   ]
  },
  {
   "cell_type": "code",
   "execution_count": 11,
   "metadata": {},
   "outputs": [
    {
     "name": "stdout",
     "output_type": "stream",
     "text": [
      "Respuesta punto 11: 0 no es un número primo\n",
      "Respuesta punto 11: 1 no es un número primo\n",
      "Respuesta punto 11: 2 es un número primo\n",
      "Respuesta punto 11: 3 es un número primo\n",
      "Respuesta punto 11: 4 no es un número primo\n",
      "Respuesta punto 11: 5 es un número primo\n",
      "Respuesta punto 11: 6 no es un número primo\n",
      "Respuesta punto 11: 7 es un número primo\n",
      "Respuesta punto 11: 8 no es un número primo\n",
      "Respuesta punto 11: 9 no es un número primo\n",
      "Respuesta punto 11: 10 no es un número primo\n",
      "Respuesta punto 11: 11 es un número primo\n",
      "Respuesta punto 11: 12 no es un número primo\n",
      "Respuesta punto 11: 13 es un número primo\n",
      "Respuesta punto 11: 14 no es un número primo\n",
      "Respuesta punto 11: 15 no es un número primo\n",
      "Respuesta punto 11: 16 no es un número primo\n",
      "Respuesta punto 11: 17 es un número primo\n",
      "Respuesta punto 11: 18 no es un número primo\n",
      "Respuesta punto 11: 19 es un número primo\n",
      "Respuesta punto 11: 20 no es un número primo\n",
      "Respuesta punto 11: 21 no es un número primo\n",
      "Respuesta punto 11: 22 no es un número primo\n",
      "Respuesta punto 11: 23 es un número primo\n",
      "Respuesta punto 11: 24 no es un número primo\n",
      "Respuesta punto 11: 25 no es un número primo\n",
      "Respuesta punto 11: 26 no es un número primo\n",
      "Respuesta punto 11: 27 no es un número primo\n",
      "Respuesta punto 11: 28 no es un número primo\n",
      "Respuesta punto 11: 29 es un número primo\n",
      "Respuesta punto 11: 30 no es un número primo\n",
      "Respuesta punto 11: 2 es un número primo\n",
      "Respuesta punto 11: 3 es un número primo\n",
      "Respuesta punto 11: 5 es un número primo\n",
      "Respuesta punto 11: 7 es un número primo\n",
      "Respuesta punto 11: 11 es un número primo\n",
      "Respuesta punto 11: 13 es un número primo\n",
      "Respuesta punto 11: 17 es un número primo\n",
      "Respuesta punto 11: 19 es un número primo\n",
      "Respuesta punto 11: 23 es un número primo\n",
      "Respuesta punto 11: 29 es un número primo\n",
      "Cantidad de veces que se repite el ciclo for del punto 9: 406\n",
      "Cantidad de veces que se repite el ciclo for del punto 10: 135\n"
     ]
    }
   ],
   "source": [
    "cant_repite_1 = 0\n",
    "cont_div = 0\n",
    "for i in range(0, 31):\n",
    "    if i < 2:\n",
    "        print(\"Respuesta punto 11: \" + str(i) + \" no es un número primo\")\n",
    "        continue\n",
    "    cont_div = 0\n",
    "    for j in range(2, i):\n",
    "        cant_repite_1 += 1\n",
    "        if i % j == 0:\n",
    "            cont_div += 1\n",
    "    if(cont_div > 0):\n",
    "        print(\"Respuesta punto 11: \" + str(i) + \" no es un número primo\")\n",
    "    else:\n",
    "        print(\"Respuesta punto 11: \" + str(i) + \" es un número primo\")\n",
    "\n",
    "\n",
    "cant_repite_2 = 0\n",
    "for i in range(0, 31):\n",
    "    if i < 2:\n",
    "        continue\n",
    "    for j in range(2, i):\n",
    "        cant_repite_2 += 1\n",
    "        if i % j == 0:\n",
    "            break\n",
    "    else:\n",
    "        print(\"Respuesta punto 11: \" + str(i) + \" es un número primo\")\n",
    "\n",
    "print(\"Cantidad de veces que se repite el ciclo for del punto 9: \" + str(cant_repite_1))\n",
    "\n",
    "print(\"Cantidad de veces que se repite el ciclo for del punto 10: \" + str(cant_repite_2))"
   ]
  },
  {
   "attachments": {},
   "cell_type": "markdown",
   "metadata": {},
   "source": [
    "12) Aplicando continue, armar un ciclo while que solo imprima los valores divisibles por 12, dentro del rango de números de 100 a 300"
   ]
  },
  {
   "cell_type": "code",
   "execution_count": 12,
   "metadata": {},
   "outputs": [
    {
     "name": "stdout",
     "output_type": "stream",
     "text": [
      "Respuesta punto 12: 108 es divisible por 12\n",
      "Respuesta punto 12: 120 es divisible por 12\n",
      "Respuesta punto 12: 132 es divisible por 12\n",
      "Respuesta punto 12: 144 es divisible por 12\n",
      "Respuesta punto 12: 156 es divisible por 12\n",
      "Respuesta punto 12: 168 es divisible por 12\n",
      "Respuesta punto 12: 180 es divisible por 12\n",
      "Respuesta punto 12: 192 es divisible por 12\n",
      "Respuesta punto 12: 204 es divisible por 12\n",
      "Respuesta punto 12: 216 es divisible por 12\n",
      "Respuesta punto 12: 228 es divisible por 12\n",
      "Respuesta punto 12: 240 es divisible por 12\n",
      "Respuesta punto 12: 252 es divisible por 12\n",
      "Respuesta punto 12: 264 es divisible por 12\n",
      "Respuesta punto 12: 276 es divisible por 12\n",
      "Respuesta punto 12: 288 es divisible por 12\n",
      "Respuesta punto 12: 300 es divisible por 12\n"
     ]
    }
   ],
   "source": [
    "num_start = 99\n",
    "while(num_start <= 300):\n",
    "    num_start += 1\n",
    "    if num_start % 12 != 0:\n",
    "        continue\n",
    "    print(\"Respuesta punto 12: \" + str(num_start) + \" es divisible por 12\")"
   ]
  },
  {
   "attachments": {},
   "cell_type": "markdown",
   "metadata": {},
   "source": [
    "13) Utilizar la función **input()** que permite hacer ingresos por teclado, para encontrar números primos y dar la opción al usario de buscar el siguiente"
   ]
  },
  {
   "cell_type": "code",
   "execution_count": 13,
   "metadata": {},
   "outputs": [
    {
     "name": "stdout",
     "output_type": "stream",
     "text": [
      "Respuesta punto 13: 1 no es un número primo\n",
      "Respuesta punto 13: 2 no es un número primo\n",
      "Respuesta punto 13: 3 es un número primo\n",
      "Respuesta punto 13: 4 no es un número primo\n"
     ]
    }
   ],
   "source": [
    "num_p = 1\n",
    "while True:\n",
    "\n",
    "    if num_p <= 2:\n",
    "        print(\"Respuesta punto 13: \" + str(num_p) + \" no es un número primo\")\n",
    "        num_p += 1\n",
    "        continue\n",
    "    \n",
    "    for i in range(2, num_p):\n",
    "        if num_p % i == 0:\n",
    "            print(\"Respuesta punto 13: \" + str(num_p) + \" no es un número primo\")\n",
    "            break\n",
    "    else:\n",
    "        print(\"Respuesta punto 13: \" + str(num_p) + \" es un número primo\")\n",
    "\n",
    "    num_input = input(\"Ingrese 1 si quiere conocer el siguiente numero primo: \")\n",
    "\n",
    "    if num_input.isdigit():\n",
    "        num_input = int(num_input)\n",
    "        if num_input == 1:\n",
    "            num_p += 1\n",
    "        else:\n",
    "            break\n",
    "    else:\n",
    "        print(\"Respuesta punto 13: El número ingresado no es válido\")\n",
    "    "
   ]
  },
  {
   "attachments": {},
   "cell_type": "markdown",
   "metadata": {},
   "source": [
    "14) Crear un ciclo while que encuentre dentro del rango de 100 a 300 el primer número divisible por 3 y además múltiplo de 6"
   ]
  },
  {
   "cell_type": "code",
   "execution_count": 14,
   "metadata": {},
   "outputs": [
    {
     "name": "stdout",
     "output_type": "stream",
     "text": [
      "Respuesta punto 13: El primer numero divisible para 3 y multiplo de 6 es:  102\n"
     ]
    }
   ],
   "source": [
    "num_div_mul = 100\n",
    "while(num_div_mul <= 300):\n",
    "    if (num_div_mul%6==0):\n",
    "        print(\"Respuesta punto 14: El primer numero divisible para 3 y multiplo de 6 es: \", num_div_mul)\n",
    "        break\n",
    "    else:\n",
    "        num_div_mul += 1\n"
   ]
  }
 ],
 "metadata": {
  "interpreter": {
   "hash": "c85384e4cb51c8b72350f3a8712cc8351fdc3955e32a27f9b60c6242ab125f01"
  },
  "kernelspec": {
   "display_name": "Python 3 (ipykernel)",
   "language": "python",
   "name": "python3"
  },
  "language_info": {
   "codemirror_mode": {
    "name": "ipython",
    "version": 3
   },
   "file_extension": ".py",
   "mimetype": "text/x-python",
   "name": "python",
   "nbconvert_exporter": "python",
   "pygments_lexer": "ipython3",
   "version": "3.11.5"
  }
 },
 "nbformat": 4,
 "nbformat_minor": 4
}
