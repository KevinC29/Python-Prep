{
 "cells": [
  {
   "attachments": {},
   "cell_type": "markdown",
   "metadata": {},
   "source": [
    "## Variables"
   ]
  },
  {
   "attachments": {},
   "cell_type": "markdown",
   "metadata": {},
   "source": [
    "1) Crear una variable que contenga un elemento del conjunto de números enteros y luego imprimir por pantalla"
   ]
  },
  {
   "cell_type": "code",
   "execution_count": 29,
   "metadata": {},
   "outputs": [
    {
     "name": "stdout",
     "output_type": "stream",
     "text": [
      "Respuesta punto 1:  1\n"
     ]
    }
   ],
   "source": [
    "num = 1\n",
    "print(\"Respuesta punto 1: \", num)\n"
   ]
  },
  {
   "attachments": {},
   "cell_type": "markdown",
   "metadata": {},
   "source": [
    "2) Imprimir el tipo de dato de la constante 8.5"
   ]
  },
  {
   "cell_type": "code",
   "execution_count": 30,
   "metadata": {},
   "outputs": [
    {
     "name": "stdout",
     "output_type": "stream",
     "text": [
      "Respuesta punto 2:  <class 'float'>\n"
     ]
    }
   ],
   "source": [
    "const = 8.5\n",
    "print(\"Respuesta punto 2: \", type(const))"
   ]
  },
  {
   "attachments": {},
   "cell_type": "markdown",
   "metadata": {},
   "source": [
    "3) Imprimir el tipo de dato de la variable creada en el punto 1"
   ]
  },
  {
   "cell_type": "code",
   "execution_count": 31,
   "metadata": {},
   "outputs": [
    {
     "name": "stdout",
     "output_type": "stream",
     "text": [
      "Respuesta punto 3:  <class 'int'>\n"
     ]
    }
   ],
   "source": [
    "print(\"Respuesta punto 3: \", type(num))"
   ]
  },
  {
   "attachments": {},
   "cell_type": "markdown",
   "metadata": {},
   "source": [
    "4) Crear una variable que contenga tu nombre"
   ]
  },
  {
   "cell_type": "code",
   "execution_count": 32,
   "metadata": {},
   "outputs": [
    {
     "name": "stdout",
     "output_type": "stream",
     "text": [
      "Respuesta punto 4:  kevin\n"
     ]
    }
   ],
   "source": [
    "name = 'kevin'\n",
    "print(\"Respuesta punto 4: \", name)"
   ]
  },
  {
   "attachments": {},
   "cell_type": "markdown",
   "metadata": {},
   "source": [
    "5) Crear una variable que contenga un número complejo"
   ]
  },
  {
   "cell_type": "code",
   "execution_count": 33,
   "metadata": {},
   "outputs": [
    {
     "name": "stdout",
     "output_type": "stream",
     "text": [
      "Respuesta punto 5:  (1+2j)\n"
     ]
    }
   ],
   "source": [
    "num_complex = 1 + 2j\n",
    "print(\"Respuesta punto 5: \", num_complex)"
   ]
  },
  {
   "attachments": {},
   "cell_type": "markdown",
   "metadata": {},
   "source": [
    "6) Mostrar el tipo de dato de la variable crada en el punto 5"
   ]
  },
  {
   "cell_type": "code",
   "execution_count": 34,
   "metadata": {},
   "outputs": [
    {
     "name": "stdout",
     "output_type": "stream",
     "text": [
      "Respuesta punto 6:  <class 'complex'>\n"
     ]
    }
   ],
   "source": [
    "print(\"Respuesta punto 6: \", type(num_complex))"
   ]
  },
  {
   "attachments": {},
   "cell_type": "markdown",
   "metadata": {},
   "source": [
    "7) Crear una variable que contenga el valor del número Pi redondeado a 4 decimales"
   ]
  },
  {
   "cell_type": "code",
   "execution_count": 35,
   "metadata": {},
   "outputs": [
    {
     "name": "stdout",
     "output_type": "stream",
     "text": [
      "Respuesta punto 7v0:  3.1416\n",
      "Respuesta punto 7v1:  3.1416\n"
     ]
    }
   ],
   "source": [
    "pi = 3.1416\n",
    "print(\"Respuesta punto 7v0: \", round(pi, 4))\n",
    "round_pi = round(pi, 4)\n",
    "print(\"Respuesta punto 7v1: \", round_pi)"
   ]
  },
  {
   "attachments": {},
   "cell_type": "markdown",
   "metadata": {},
   "source": [
    "8) Crear una variable que contenga el valor 'True' y otra que contenga el valor True. ¿Se trata de lo mismo?"
   ]
  },
  {
   "cell_type": "code",
   "execution_count": 36,
   "metadata": {},
   "outputs": [
    {
     "name": "stdout",
     "output_type": "stream",
     "text": [
      "Respuesta punto 8: No son lo mismo\n"
     ]
    }
   ],
   "source": [
    "boolean_1 = 'True'\n",
    "boolean_2 = True\n",
    "#No son lo mismo uno es un string y el otro es un boleano\n",
    "print(\"Respuesta punto 8: No son lo mismo\")"
   ]
  },
  {
   "attachments": {},
   "cell_type": "markdown",
   "metadata": {},
   "source": [
    "9) Imprimir el tipo de dato correspondientes a las variables creadas en el punto 8"
   ]
  },
  {
   "cell_type": "code",
   "execution_count": 37,
   "metadata": {},
   "outputs": [
    {
     "name": "stdout",
     "output_type": "stream",
     "text": [
      "Respuesta punto 9:  Valor 1:  <class 'str'> Valor 2:  <class 'bool'>\n"
     ]
    }
   ],
   "source": [
    "print(\"Respuesta punto 9: \", \"Valor 1: \", type(boolean_1), \"Valor 2: \", type(boolean_2))"
   ]
  },
  {
   "attachments": {},
   "cell_type": "markdown",
   "metadata": {},
   "source": [
    "10) Asignar a una variable, la suma de un número entero y otro decimal"
   ]
  },
  {
   "cell_type": "code",
   "execution_count": 38,
   "metadata": {},
   "outputs": [
    {
     "name": "stdout",
     "output_type": "stream",
     "text": [
      "Respuesta punto 10v0:  2.5\n",
      "Respuesta punto 10v1:  2.5\n",
      "Respuesta punto 10v2:  2.5\n"
     ]
    }
   ],
   "source": [
    "num_int = 1\n",
    "num_float = 1.5\n",
    "print(\"Respuesta punto 10v0: \", num_int + num_float)\n",
    "sum_int_float_v1 = num_int + num_float\n",
    "print(\"Respuesta punto 10v1: \", sum_int_float_v1)\n",
    "sum_int_float_v2 = 1 + 1.5\n",
    "print(\"Respuesta punto 10v2: \", sum_int_float_v2)\n"
   ]
  },
  {
   "attachments": {},
   "cell_type": "markdown",
   "metadata": {},
   "source": [
    "11) Realizar una operación de suma de números complejos"
   ]
  },
  {
   "cell_type": "code",
   "execution_count": 39,
   "metadata": {},
   "outputs": [
    {
     "name": "stdout",
     "output_type": "stream",
     "text": [
      "Respuesta punto 11v0:  (4+6j)\n",
      "Respuesta punto 11v1:  (4+6j)\n",
      "Respuesta punto 11v2:  (4+6j)\n"
     ]
    }
   ],
   "source": [
    "sum_complex = (1 + 2j) + (3 + 4j)\n",
    "print(\"Respuesta punto 11v0: \", sum_complex)\n",
    "sum_complex_a = 3 + 4j\n",
    "sum_complex_b = 1 + 2j\n",
    "print(\"Respuesta punto 11v1: \", sum_complex_a + sum_complex_b)\n",
    "sum_complex_c = sum_complex_a + sum_complex_b\n",
    "print(\"Respuesta punto 11v2: \", sum_complex_c)\n"
   ]
  },
  {
   "attachments": {},
   "cell_type": "markdown",
   "metadata": {},
   "source": [
    "12) Realizar una operación de suma de un número real y otro complejo"
   ]
  },
  {
   "cell_type": "code",
   "execution_count": 40,
   "metadata": {},
   "outputs": [
    {
     "name": "stdout",
     "output_type": "stream",
     "text": [
      "Respuesta punto 12v0:  (4.1416+2j)\n",
      "Respuesta punto 12v1:  (9+4j)\n"
     ]
    }
   ],
   "source": [
    "sum_real_complex = (1 + 2j) + 3.1416\n",
    "print(\"Respuesta punto 12v0: \", sum_real_complex)\n",
    "sum_real_complex_a = 4 + 4j\n",
    "sum_real_complex_b = 5\n",
    "print(\"Respuesta punto 12v1: \", sum_real_complex_a + sum_real_complex_b)"
   ]
  },
  {
   "attachments": {},
   "cell_type": "markdown",
   "metadata": {},
   "source": [
    "13) Realizar una operación de multiplicación"
   ]
  },
  {
   "cell_type": "code",
   "execution_count": 41,
   "metadata": {},
   "outputs": [
    {
     "name": "stdout",
     "output_type": "stream",
     "text": [
      "Respuesta punto 13v0:  20\n",
      "Respuesta punto 13v1:  48\n",
      "Respuesta punto 13v2:  48\n"
     ]
    }
   ],
   "source": [
    "print(\"Respuesta punto 13v0: \", 5*4)\n",
    "num_a = 6\n",
    "num_b = 8\n",
    "print(\"Respuesta punto 13v1: \", num_a*num_b)\n",
    "mult = num_a*num_b\n",
    "print(\"Respuesta punto 13v2: \", mult)"
   ]
  },
  {
   "attachments": {},
   "cell_type": "markdown",
   "metadata": {},
   "source": [
    "14) Mostrar el resultado de elevar 2 a la octava potencia"
   ]
  },
  {
   "cell_type": "code",
   "execution_count": 42,
   "metadata": {},
   "outputs": [
    {
     "name": "stdout",
     "output_type": "stream",
     "text": [
      "Respuesta punto 14v0:  256\n",
      "Respuesta punto 14v1:  256\n",
      "Respuesta punto 14v2:  256\n",
      "Respuesta punto 14v3:  256\n"
     ]
    }
   ],
   "source": [
    "print(\"Respuesta punto 14v0: \", 2**8)\n",
    "pot = 2**8\n",
    "print(\"Respuesta punto 14v1: \", pot)\n",
    "num_pot_a = 2\n",
    "pot_num_a = 8\n",
    "print(\"Respuesta punto 14v2: \", num_pot_a**pot_num_a)\n",
    "result = num_pot_a**pot_num_a\n",
    "print(\"Respuesta punto 14v3: \", result)"
   ]
  },
  {
   "attachments": {},
   "cell_type": "markdown",
   "metadata": {},
   "source": [
    "15) Obtener el cociente de la división de 27 entre 4 en una variable y luego mostrarla"
   ]
  },
  {
   "cell_type": "code",
   "execution_count": 43,
   "metadata": {},
   "outputs": [
    {
     "name": "stdout",
     "output_type": "stream",
     "text": [
      "Respuesta punto 15v0:  6.75\n",
      "Respuesta punto 15v1:  6.75\n",
      "Respuesta punto 15v2:  6.75\n",
      "Respuesta punto 15v3:  6.75\n"
     ]
    }
   ],
   "source": [
    "print(\"Respuesta punto 15v0: \", 27/4)\n",
    "quotient = 27/4\n",
    "print(\"Respuesta punto 15v1: \", quotient)\n",
    "dividend = 27\n",
    "divisor = 4\n",
    "print(\"Respuesta punto 15v2: \", dividend/divisor)\n",
    "result_div = dividend/divisor\n",
    "print(\"Respuesta punto 15v3: \", result_div)"
   ]
  },
  {
   "attachments": {},
   "cell_type": "markdown",
   "metadata": {},
   "source": [
    "16) De la división anterior solamente mostrar la parte entera"
   ]
  },
  {
   "cell_type": "code",
   "execution_count": 44,
   "metadata": {},
   "outputs": [
    {
     "name": "stdout",
     "output_type": "stream",
     "text": [
      "Respuesta punto 16v0:  6\n",
      "Respuesta punto 16v1:  6\n",
      "Respuesta punto 16v2:  6\n"
     ]
    }
   ],
   "source": [
    "print(\"Respuesta punto 16v0: \", int(quotient))\n",
    "quotient_int = int(quotient)\n",
    "print(\"Respuesta punto 16v1: \", quotient_int)\n",
    "quotient_int_div = 27//4\n",
    "print(\"Respuesta punto 16v2: \", quotient_int_div)"
   ]
  },
  {
   "attachments": {},
   "cell_type": "markdown",
   "metadata": {},
   "source": [
    "17) De la división de 27 entre 4 mostrar solamente el resto"
   ]
  },
  {
   "cell_type": "code",
   "execution_count": 45,
   "metadata": {},
   "outputs": [
    {
     "name": "stdout",
     "output_type": "stream",
     "text": [
      "Respuesta punto 17v0:  3\n",
      "Respuesta punto 17v1:  3\n",
      "Respuesta punto 17v2:  3\n"
     ]
    }
   ],
   "source": [
    "residue = 27 % 4\n",
    "print(\"Respuesta punto 17v0: \", residue)\n",
    "rest_dividend = 27\n",
    "rest_divisor = 4\n",
    "print(\"Respuesta punto 17v1: \", rest_dividend % rest_divisor)\n",
    "result_rest = rest_dividend % rest_divisor\n",
    "print(\"Respuesta punto 17v2: \", result_rest)"
   ]
  },
  {
   "attachments": {},
   "cell_type": "markdown",
   "metadata": {},
   "source": [
    "18) Utilizando como operandos el número 4 y los resultados obtenidos en los puntos 16 y 17. Obtener 27 como resultado"
   ]
  },
  {
   "cell_type": "code",
   "execution_count": 46,
   "metadata": {},
   "outputs": [
    {
     "name": "stdout",
     "output_type": "stream",
     "text": [
      "Respuesta punto 18v0:  27\n",
      "Respuesta punto 18v1:  27\n"
     ]
    }
   ],
   "source": [
    "print(\"Respuesta punto 18v0: \", 4*quotient_int + residue)\n",
    "operand = 4\n",
    "get_result = operand * quotient_int + residue\n",
    "print(\"Respuesta punto 18v1: \", get_result)"
   ]
  },
  {
   "attachments": {},
   "cell_type": "markdown",
   "metadata": {},
   "source": [
    "19) Utilizar el operador \"+\" en una operación donde intervengan solo variables alfanuméricas"
   ]
  },
  {
   "cell_type": "code",
   "execution_count": 47,
   "metadata": {},
   "outputs": [
    {
     "name": "stdout",
     "output_type": "stream",
     "text": [
      "Respuesta punto 19v0:  hola1mundo2\n",
      "Respuesta punto 19v1:  hola1mundo1\n"
     ]
    }
   ],
   "source": [
    "print(\"Respuesta punto 19v0: \", 'hola1' + 'mundo2')\n",
    "var_alfa_a = 'hola1'\n",
    "var_alfa_b = 'mundo1'\n",
    "result_alfa = var_alfa_a + var_alfa_b\n",
    "print(\"Respuesta punto 19v1: \", result_alfa)"
   ]
  },
  {
   "attachments": {},
   "cell_type": "markdown",
   "metadata": {},
   "source": [
    "20) Evaluar si \"2\" es igual a 2. ¿Por qué ocurre eso?"
   ]
  },
  {
   "cell_type": "code",
   "execution_count": 48,
   "metadata": {},
   "outputs": [
    {
     "name": "stdout",
     "output_type": "stream",
     "text": [
      "Respuesta punto 20v0:  False\n",
      "Respuesta punto 20v1:  False\n",
      "Respuesta punto 20v2: No son iguales por que son de diferente tipo de dato\n"
     ]
    }
   ],
   "source": [
    "print(\"Respuesta punto 20v0: \", \"2\" == 2)\n",
    "num_bool = \"2\"\n",
    "num_int = 2\n",
    "print(\"Respuesta punto 20v1: \", num_bool == num_int)\n",
    "print(\"Respuesta punto 20v2: No son iguales por que son de diferente tipo de dato\")"
   ]
  },
  {
   "attachments": {},
   "cell_type": "markdown",
   "metadata": {},
   "source": [
    "21) Utilizar las funciones de cambio de tipo de dato, para que la validación del punto 20 resulte verdadera"
   ]
  },
  {
   "cell_type": "code",
   "execution_count": 49,
   "metadata": {},
   "outputs": [
    {
     "name": "stdout",
     "output_type": "stream",
     "text": [
      "Respuesta punto 21v0:  True\n",
      "Respuesta punto 21v1:  True\n",
      "Respuesta punto 21v2:  True\n"
     ]
    }
   ],
   "source": [
    "print(\"Respuesta punto 21v0: \", int(\"2\") == 2)\n",
    "num_bool_int = int(\"2\")\n",
    "num_int_compare = 2\n",
    "result_num_compare = num_bool_int == num_int_compare\n",
    "print(\"Respuesta punto 21v1: \", result_num_compare)\n",
    "num_bool_compare = \"2\"\n",
    "num_int_bool = str(2)\n",
    "print(\"Respuesta punto 21v2: \", num_bool_compare == num_int_bool)"
   ]
  },
  {
   "attachments": {},
   "cell_type": "markdown",
   "metadata": {},
   "source": [
    "22) ¿Por qué arroja error el siguiente cambio de tipo de datos? a = float('3,8')"
   ]
  },
  {
   "cell_type": "code",
   "execution_count": 50,
   "metadata": {},
   "outputs": [
    {
     "name": "stdout",
     "output_type": "stream",
     "text": [
      "Respuesta punto 22v0:  Por que no es del tipo de dato float por la coma\n",
      "Respuesta punto 22v1:  Para que la conversión sea exitorsa debe ser 3.8\n"
     ]
    }
   ],
   "source": [
    "result_change = float('3.8')\n",
    "print(\"Respuesta punto 22v0: \", \"Por que no es del tipo de dato float por la coma\")\n",
    "print(\"Respuesta punto 22v1: \", \"Para que la conversión sea exitorsa debe ser 3.8\")"
   ]
  },
  {
   "attachments": {},
   "cell_type": "markdown",
   "metadata": {},
   "source": [
    "23) Crear una variable con el valor 3, y utilizar el operador '-=' para modificar su contenido y que de como resultado 2."
   ]
  },
  {
   "cell_type": "code",
   "execution_count": 51,
   "metadata": {},
   "outputs": [
    {
     "name": "stdout",
     "output_type": "stream",
     "text": [
      "Respuesta punto 23v0:  2\n",
      "Respuesta punto 23v1:  2\n"
     ]
    }
   ],
   "source": [
    "value = 3\n",
    "value -= 1\n",
    "print(\"Respuesta punto 23v0: \", value)\n",
    "value_a = 3\n",
    "value_a = value_a - 1\n",
    "print(\"Respuesta punto 23v1: \", value_a)"
   ]
  },
  {
   "attachments": {},
   "cell_type": "markdown",
   "metadata": {},
   "source": [
    "24) Realizar la operacion 1 << 2 ¿Por qué da ese resultado? ¿Qué es el sistema de numeración binario?"
   ]
  },
  {
   "cell_type": "code",
   "execution_count": 52,
   "metadata": {},
   "outputs": [
    {
     "name": "stdout",
     "output_type": "stream",
     "text": [
      "Respuesta punto 24v0:  4\n",
      "Respuesta punto 24v1:  Por que se desplaza 2 posiciones a la izquierda o lo equivalente a 0100 en binario\n",
      "Respuesta punto 24v2:  El sistema de numeración binario es un sistema de numeración en el que los números se representan utilizando solamente las cifras cero y uno, es decir, base dos.\n"
     ]
    }
   ],
   "source": [
    "operation = 1 << 2\n",
    "print(\"Respuesta punto 24v0: \", operation)\n",
    "print(\"Respuesta punto 24v1: \", \"Por que se desplaza 2 posiciones a la izquierda o lo equivalente a 0100 en binario\")\n",
    "print(\"Respuesta punto 24v2: \", \"El sistema de numeración binario es un sistema de numeración en el que los números se representan utilizando solamente las cifras cero y uno, es decir, base dos.\")"
   ]
  },
  {
   "attachments": {},
   "cell_type": "markdown",
   "metadata": {},
   "source": [
    "25) Realizar la operación 2 + '2' ¿Por qué no está permitido? ¿Si los dos operandos serían del mismo tipo, siempre arrojaría el mismo resultado?"
   ]
  },
  {
   "cell_type": "code",
   "execution_count": 53,
   "metadata": {},
   "outputs": [
    {
     "name": "stdout",
     "output_type": "stream",
     "text": [
      "Respuesta punto 25v1:  No esta permitido por que son de diferente tipo de dato\n",
      "Respuesta punto 25v2:  4\n",
      "Respuesta punto 25v3:  22\n",
      "Respuesta punto 25v4:  Si los dos operandos fueran del mismo tipo de dato va cambiar el resultado ya que uno seria de tipo entero y el otro de tipo cadena\n"
     ]
    }
   ],
   "source": [
    "# operation_sum = 2 + '2' #No esta permitido por que son de diferente tipo de dato\n",
    "# print(\"Respuesta punto 25v0: \", operation_sum)\n",
    "print(\"Respuesta punto 25v1: \", \"No esta permitido por que son de diferente tipo de dato\")\n",
    "operation_sum_a = 2 + 2\n",
    "print(\"Respuesta punto 25v2: \", operation_sum_a)\n",
    "operation_sum_b = '2' + '2'\n",
    "print(\"Respuesta punto 25v3: \", operation_sum_b)\n",
    "print(\"Respuesta punto 25v4: \", \"Si los dos operandos fueran del mismo tipo de dato va cambiar el resultado ya que uno seria de tipo entero y el otro de tipo cadena\")"
   ]
  },
  {
   "attachments": {},
   "cell_type": "markdown",
   "metadata": {},
   "source": [
    "26) Realizar una operación válida entre valores de tipo entero y string"
   ]
  },
  {
   "cell_type": "code",
   "execution_count": 54,
   "metadata": {},
   "outputs": [
    {
     "name": "stdout",
     "output_type": "stream",
     "text": [
      "Respuesta punto 26v0:  2Hola Mundo2Hola Mundo\n"
     ]
    }
   ],
   "source": [
    "value_int_a = 2\n",
    "value_str_b = '2Hola Mundo'\n",
    "\n",
    "operation_int_str = value_a * value_str_b\n",
    "print(\"Respuesta punto 26v0: \", operation_int_str)"
   ]
  }
 ],
 "metadata": {
  "interpreter": {
   "hash": "c85384e4cb51c8b72350f3a8712cc8351fdc3955e32a27f9b60c6242ab125f01"
  },
  "kernelspec": {
   "display_name": "Python 3 (ipykernel)",
   "language": "python",
   "name": "python3"
  },
  "language_info": {
   "codemirror_mode": {
    "name": "ipython",
    "version": 3
   },
   "file_extension": ".py",
   "mimetype": "text/x-python",
   "name": "python",
   "nbconvert_exporter": "python",
   "pygments_lexer": "ipython3",
   "version": "3.11.5"
  }
 },
 "nbformat": 4,
 "nbformat_minor": 4
}
