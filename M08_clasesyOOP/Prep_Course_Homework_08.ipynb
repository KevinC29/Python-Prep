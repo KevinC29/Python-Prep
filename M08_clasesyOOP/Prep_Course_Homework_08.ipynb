{
 "cells": [
  {
   "attachments": {},
   "cell_type": "markdown",
   "metadata": {},
   "source": [
    "## Clases y Programación Orientada a Objetos"
   ]
  },
  {
   "attachments": {},
   "cell_type": "markdown",
   "metadata": {},
   "source": [
    "1) Crear la clase vehículo que contenga los atributos:<br>\n",
    "Color<br>\n",
    "Si es moto, auto, camioneta ó camión<br>\n",
    "Cilindrada del motor"
   ]
  },
  {
   "cell_type": "code",
   "execution_count": 2,
   "metadata": {},
   "outputs": [],
   "source": [
    "class Vehiculo():\n",
    "    def __init__(self, color, tipo, cilindrada):\n",
    "        self.color = color\n",
    "        self.tipo = cilindrada\n",
    "        self.cilindrada = cilindrada\n"
   ]
  },
  {
   "attachments": {},
   "cell_type": "markdown",
   "metadata": {},
   "source": [
    "2) A la clase Vehiculo creada en el punto 1, agregar los siguientes métodos:<br>\n",
    "Acelerar<br>\n",
    "Frenar<br>\n",
    "Doblar<br>"
   ]
  },
  {
   "cell_type": "code",
   "execution_count": 3,
   "metadata": {},
   "outputs": [],
   "source": [
    "class Vehiculo():\n",
    "    def __init__(self, color, tipo, cilindrada):\n",
    "        self.color = color\n",
    "        self.tipo = cilindrada\n",
    "        self.cilindrada = cilindrada\n",
    "        self.velocidad = 0\n",
    "        self.direccion = 0\n",
    "\n",
    "    def Acelerar(self, velocidad):\n",
    "        self.velocidad += velocidad\n",
    "        print(\"La velocidad es de: \", self.velocidad)\n",
    "\n",
    "    def Frenar(self, velocidad):\n",
    "        if velocidad > self.velocidad:\n",
    "            print(\"Error de frenos\")\n",
    "        self.velocidad -= velocidad\n",
    "        print(\"La velocidad es de: \", self.velocidad)\n",
    "\n",
    "    def Doblar(self, grados):\n",
    "        self.direccion += grados\n",
    "        print(\"La direccion es de: \", self.direccion)"
   ]
  },
  {
   "attachments": {},
   "cell_type": "markdown",
   "metadata": {},
   "source": [
    "3) Instanciar 3 objetos de la clase vehículo y ejecutar sus métodos, probar luego el resultado"
   ]
  },
  {
   "cell_type": "code",
   "execution_count": 4,
   "metadata": {},
   "outputs": [
    {
     "name": "stdout",
     "output_type": "stream",
     "text": [
      "La velocidad es de:  120\n",
      "La velocidad es de:  175\n",
      "La velocidad es de:  150\n",
      "La velocidad es de:  30\n",
      "La velocidad es de:  130\n",
      "La velocidad es de:  50\n",
      "La direccion es de:  90\n",
      "La direccion es de:  75\n",
      "La direccion es de:  180\n"
     ]
    }
   ],
   "source": [
    "vehiculo1 = Vehiculo(\"Azul\", \"Moto\", 3)\n",
    "vehiculo2 = Vehiculo(\"Rojo\", \"Auto\", 2)\n",
    "vehiculo3 = Vehiculo(\"Verde\", \"Avion\", 4)\n",
    "\n",
    "vehiculo1.Acelerar(120)\n",
    "vehiculo2.Acelerar(175)\n",
    "vehiculo3.Acelerar(150)\n",
    "\n",
    "vehiculo1.Frenar(90)\n",
    "vehiculo2.Frenar(45)\n",
    "vehiculo3.Frenar(100)\n",
    "\n",
    "vehiculo1.Doblar(90)\n",
    "vehiculo2.Doblar(75)\n",
    "vehiculo3.Doblar(180)"
   ]
  },
  {
   "attachments": {},
   "cell_type": "markdown",
   "metadata": {},
   "source": [
    "4) Agregar a la clase Vehiculo, un método que muestre su estado, es decir, a que velocidad se encuentra y su dirección. Y otro método que muestre color, tipo y cilindrada"
   ]
  },
  {
   "cell_type": "code",
   "execution_count": 5,
   "metadata": {},
   "outputs": [
    {
     "name": "stdout",
     "output_type": "stream",
     "text": [
      "La velocidad es de:  120\n",
      "La velocidad es de:  30\n",
      "La direccion es de:  90\n",
      "Se encuentra a una velocidad de:  30 Con una direccion de:  90\n",
      "Color>  Azul Tipo>  Moto Cilindrada> 3\n"
     ]
    }
   ],
   "source": [
    "class Vehiculo():\n",
    "    def __init__(self, color, tipo, cilindrada):\n",
    "        self.color = color\n",
    "        self.tipo = tipo\n",
    "        self.cilindrada = cilindrada\n",
    "        self.velocidad = 0\n",
    "        self.direccion = 0\n",
    "\n",
    "    def Acelerar(self, velocidad):\n",
    "        self.velocidad += velocidad\n",
    "        print(\"La velocidad es de: \", self.velocidad)\n",
    "\n",
    "    def Frenar(self, velocidad):\n",
    "        if velocidad > self.velocidad:\n",
    "            print(\"Error de frenos\")\n",
    "        self.velocidad -= velocidad\n",
    "        print(\"La velocidad es de: \", self.velocidad)\n",
    "\n",
    "    def Doblar(self, grados):\n",
    "        self.direccion += grados\n",
    "        print(\"La direccion es de: \", self.direccion)\n",
    "\n",
    "    def Estado(self):\n",
    "        print(\"Se encuentra a una velocidad de: \", self.velocidad, \"Con una direccion de: \", self.direccion)\n",
    "\n",
    "    def DatosVehiculo(self):\n",
    "        print(\"Color> \", self.color, \"Tipo> \", self.tipo, \"Cilindrada>\", self.cilindrada)\n",
    "\n",
    "\n",
    "vehiculo4 = Vehiculo(\"Azul\", \"Moto\", 3)\n",
    "\n",
    "vehiculo4.Acelerar(120)\n",
    "\n",
    "vehiculo4.Frenar(90)\n",
    "\n",
    "vehiculo4.Doblar(90)\n",
    "\n",
    "vehiculo4.Estado()\n",
    "\n",
    "vehiculo4.DatosVehiculo()"
   ]
  },
  {
   "attachments": {},
   "cell_type": "markdown",
   "metadata": {},
   "source": [
    "5) Crear una clase que permita utilizar las funciones creadas en la práctica del módulo 7<br>\n",
    "Verificar Primo<br>\n",
    "Valor modal<br>\n",
    "Conversión grados<br>\n",
    "Factorial<br>"
   ]
  },
  {
   "cell_type": "code",
   "execution_count": 6,
   "metadata": {},
   "outputs": [],
   "source": [
    "class FuncionesM7():\n",
    "\n",
    "    def __init__(self) -> None:\n",
    "        pass\n",
    "\n",
    "    def is_primo(self, numero):\n",
    "        if numero < 2:\n",
    "            return False\n",
    "        for i in range(2, numero):\n",
    "            if numero % i == 0:\n",
    "                return False\n",
    "        return True\n",
    "\n",
    "    \n",
    "    def more_repeat(self, lista):\n",
    "        list_repeat = []\n",
    "        list_count = []\n",
    "        for i in lista:\n",
    "            if i in list_repeat:\n",
    "                index = list_repeat.index(i)\n",
    "                list_count[index] += 1\n",
    "            else:\n",
    "                list_repeat.append(i)\n",
    "                list_count.append(1)\n",
    "        \n",
    "        max_count = list_count.index(max(list_count))\n",
    "        max_repeat = list_repeat[max_count]\n",
    "\n",
    "        return max_repeat, max(list_count)\n",
    "\n",
    "    \n",
    "    def convert(self, valor, medida, destino):\n",
    "        if medida == 'C':\n",
    "            if destino == 'F':\n",
    "                return (valor * 9/5) + 32\n",
    "            elif destino == 'K':\n",
    "                return valor + 273.15\n",
    "            else:\n",
    "                return print('No se puede convertir a la misma medida')\n",
    "        elif medida == 'F':\n",
    "            if destino == 'C':\n",
    "                return (valor - 32) * 5/9\n",
    "            elif destino == 'K':\n",
    "                return (valor - 32) * 5/9 + 273.15\n",
    "            else:\n",
    "                return print('No se puede convertir a la misma medida')\n",
    "        elif medida == 'K':\n",
    "            if destino == 'C':\n",
    "                return valor - 273.15\n",
    "            elif destino == 'F':\n",
    "                return (valor - 273.15) * 9/5 + 32\n",
    "            else:\n",
    "                return print('No se puede convertir a la misma medida')\n",
    "        else:\n",
    "            return print('No se puede convertir')\n",
    "\n",
    "    def factorial(self, num):\n",
    "        if (num < 0):\n",
    "            return print('No se puede calcular el factorial de un número negativo')\n",
    "        elif (type(num) != int):\n",
    "            return print('No se puede calcular el factorial de un número no entero')\n",
    "        elif (num == 1):\n",
    "            return num\n",
    "        else:\n",
    "            num = num * self.factorial(num - 1)\n",
    "        return num\n"
   ]
  },
  {
   "attachments": {},
   "cell_type": "markdown",
   "metadata": {},
   "source": [
    "6) Probar las funciones incorporadas en la clase del punto 5"
   ]
  },
  {
   "cell_type": "code",
   "execution_count": 7,
   "metadata": {},
   "outputs": [
    {
     "name": "stdout",
     "output_type": "stream",
     "text": [
      "True\n",
      "120\n",
      "-272.15\n"
     ]
    }
   ],
   "source": [
    "funciones = FuncionesM7()\n",
    "\n",
    "print(funciones.is_primo(3))\n",
    "print(funciones.factorial(5))\n",
    "print(funciones.convert(1, 'K', 'C'))"
   ]
  },
  {
   "attachments": {},
   "cell_type": "markdown",
   "metadata": {},
   "source": [
    "7) Es necesario que la clase creada en el punto 5 contenga una lista, sobre la cual se apliquen las funciones incorporadas"
   ]
  },
  {
   "cell_type": "code",
   "execution_count": 8,
   "metadata": {},
   "outputs": [
    {
     "name": "stdout",
     "output_type": "stream",
     "text": [
      "(1, 16)\n"
     ]
    }
   ],
   "source": [
    "list_numbers = [1,2,3,4,5,6,7,8,9,10,11,12,13,14,15,1,1,1,1,1,1,1,1,1,1,1,1,1,1,1]\n",
    "print(funciones.more_repeat(list_numbers))\n"
   ]
  },
  {
   "attachments": {},
   "cell_type": "markdown",
   "metadata": {},
   "source": [
    "8) Crear un archivo .py aparte y ubicar allí la clase generada en el punto anterior. Luego realizar la importación del módulo y probar alguna de sus funciones"
   ]
  },
  {
   "cell_type": "code",
   "execution_count": 9,
   "metadata": {},
   "outputs": [
    {
     "name": "stdout",
     "output_type": "stream",
     "text": [
      "True\n",
      "120\n",
      "-272.15\n",
      "(1, 16)\n"
     ]
    }
   ],
   "source": [
    "from funcionesm7 import *\n",
    "\n",
    "\n",
    "funciones_module = FuncionesM7()\n",
    "\n",
    "\n",
    "print(funciones_module.is_primo(3))\n",
    "print(funciones_module.factorial(5))\n",
    "print(funciones_module.convert(1, 'K', 'C'))\n",
    "list_numbers = [1,2,3,4,5,6,7,8,9,10,11,12,13,14,15,1,1,1,1,1,1,1,1,1,1,1,1,1,1,1]\n",
    "print(funciones_module.more_repeat(list_numbers))"
   ]
  }
 ],
 "metadata": {
  "interpreter": {
   "hash": "c85384e4cb51c8b72350f3a8712cc8351fdc3955e32a27f9b60c6242ab125f01"
  },
  "kernelspec": {
   "display_name": "Python 3 (ipykernel)",
   "language": "python",
   "name": "python3"
  },
  "language_info": {
   "codemirror_mode": {
    "name": "ipython",
    "version": 3
   },
   "file_extension": ".py",
   "mimetype": "text/x-python",
   "name": "python",
   "nbconvert_exporter": "python",
   "pygments_lexer": "ipython3",
   "version": "3.11.5"
  }
 },
 "nbformat": 4,
 "nbformat_minor": 4
}
